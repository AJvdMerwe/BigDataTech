{
 "cells": [
  {
   "cell_type": "code",
   "execution_count": 1,
   "metadata": {},
   "outputs": [
    {
     "name": "stderr",
     "output_type": "stream",
     "text": [
      "<frozen importlib._bootstrap>:228: RuntimeWarning: pyarrow._fs.FileInfo size changed, may indicate binary incompatibility. Expected 64 from C header, got 88 from PyObject\n",
      "<frozen importlib._bootstrap>:228: RuntimeWarning: pyarrow._fs.FileSelector size changed, may indicate binary incompatibility. Expected 48 from C header, got 72 from PyObject\n"
     ]
    }
   ],
   "source": [
    "from __future__ import absolute_import\n",
    "import argparse\n",
    "import logging\n",
    "import re\n",
    "import json\n",
    "import apache_beam as beam\n",
    "import numpy as np\n",
    "from datetime import datetime\n",
    "from apache_beam.io import ReadFromText\n",
    "from apache_beam.transforms import window\n",
    "from apache_beam.io import WriteToText\n",
    "from apache_beam.io import kafka\n",
    "from apache_beam.options.pipeline_options import PipelineOptions\n",
    "from apache_beam.options.pipeline_options import SetupOptions\n",
    "from apache_beam.dataframe.io import read_csv\n",
    "from beam_nuggets.io import kafkaio\n",
    "\n",
    "\n",
    "TIME_FORMAT = '%Y-%m-%d %H:%M:%S'"
   ]
  },
  {
   "cell_type": "code",
   "execution_count": 2,
   "metadata": {},
   "outputs": [],
   "source": [
    "def print_windows(element, window=beam.DoFn.WindowParam,  pane_info=beam.DoFn.PaneInfoParam, timestamp=beam.DoFn.TimestampParam):\n",
    "    logging.getLogger().error(f\"PRINT WINDOW HAS SENT\")\n",
    "    print(window)\n",
    "    print(pane_info)\n",
    "    print(timestamp)\n",
    "    print(element)\n",
    "    print('-----------------')"
   ]
  },
  {
   "cell_type": "code",
   "execution_count": 3,
   "metadata": {},
   "outputs": [],
   "source": [
    "class time_windowed_data(beam.DoFn):\n",
    "    def process(self, element, window=beam.DoFn.WindowParam,  pane_info=beam.DoFn.PaneInfoParam, timestamp=beam.DoFn.TimestampParam):\n",
    "        logging.getLogger().info(f\"{timestamp, element}\")\n",
    "        yield timestamp, element"
   ]
  },
  {
   "cell_type": "code",
   "execution_count": 4,
   "metadata": {},
   "outputs": [],
   "source": [
    "def to_unix_time(time_str, date_time_format=TIME_FORMAT):\n",
    "    logging.getLogger().info(f\"{time_str}\")\n",
    "    ts = datetime.strptime(time_str, date_time_format)\n",
    "    return float(ts.strftime('%s'))"
   ]
  },
  {
   "cell_type": "code",
   "execution_count": 5,
   "metadata": {},
   "outputs": [],
   "source": [
    "class KeyValuePair(beam.DoFn):\n",
    "      # Use classes and functions to perform transformations on your PCollections\n",
    "      # Yield the element(s) needed as input for the next transform\n",
    "      def process(self, element):\n",
    "            list_element = element.split(\",\")\n",
    "            logging.getLogger().info(f\"{list_element}\")\n",
    "            element = (list_element[2], {\"timestamp\": to_unix_time(list_element[0]), \"bytes\": float(list_element[1]), \"zone\":list_element[-1]})\n",
    "            yield element"
   ]
  },
  {
   "cell_type": "code",
   "execution_count": 6,
   "metadata": {},
   "outputs": [],
   "source": [
    "class KeyValuePair_json(beam.DoFn):\n",
    "      # Use classes and functions to perform transformations on your PCollections\n",
    "      # Yield the element(s) needed as input for the next transform\n",
    "      def process(self, element):\n",
    "            element = json.loads(element[1])\n",
    "            logging.getLogger().info(f\"{element}\")\n",
    "            element = (element['user_id'], {\"timestamp\": to_unix_time(element[\"timestamp\"]), \"bytes\": float(element[\"bytes\"]), \"zone\": element[\"zone\"]})\n",
    "            yield element"
   ]
  },
  {
   "cell_type": "code",
   "execution_count": 7,
   "metadata": {},
   "outputs": [],
   "source": [
    "class MeanBytes(beam.DoFn):\n",
    "    def process(self, element):\n",
    "        logging.getLogger().info(f\"{type(element[1][1])}\")\n",
    "        logging.getLogger().info(f\"{type(element[1][0])}\")\n",
    "        logging.getLogger().info(f\"{element[0]}\")\n",
    "        yield (element[1][0], (np.array(element[1][1]).mean(), element[1][1]))"
   ]
  },
  {
   "cell_type": "code",
   "execution_count": 8,
   "metadata": {},
   "outputs": [],
   "source": [
    "class OutageAlert(beam.DoFn):\n",
    "    def process(self, element, window=beam.DoFn.WindowParam,  pane_info=beam.DoFn.PaneInfoParam, timestamp=beam.DoFn.TimestampParam):\n",
    "        logging.getLogger().info(f\"{element}\")\n",
    "        if element[1][0] == 0:\n",
    "            logging.getLogger().error(f\"{timestamp.to_utc_datetime()} --user_id:{element[0]} experienced 5 minute average traffic of {element[1][0]} bytes --Internet Outage --last readings {element[1][1]}\")\n",
    "            yield (element[0], (window, timestamp, element[1]))"
   ]
  },
  {
   "cell_type": "code",
   "execution_count": 11,
   "metadata": {},
   "outputs": [],
   "source": [
    "options = PipelineOptions(direct_num_workers=8, direct_running_mode='multi_threading')\n",
    "# options = PipelineOptions()\n",
    "input_path = 'syn-internet-usage.csv'\n",
    "logging.getLogger().setLevel(logging.ERROR)\n",
    "consumer_config = {\"topic\": \"intelliblock_stream\",\n",
    "                   \"bootstrap_servers\": \"localhost:9092\"}"
   ]
  },
  {
   "cell_type": "code",
   "execution_count": 12,
   "metadata": {},
   "outputs": [
    {
     "ename": "AttributeError",
     "evalue": "'NoneType' object has no attribute 'time'",
     "output_type": "error",
     "traceback": [
      "\u001B[0;31m---------------------------------------------------------------------------\u001B[0m",
      "\u001B[0;31mAttributeError\u001B[0m                            Traceback (most recent call last)",
      "Cell \u001B[0;32mIn[12], line 9\u001B[0m\n\u001B[1;32m      1\u001B[0m \u001B[38;5;28;01mwith\u001B[39;00m beam\u001B[38;5;241m.\u001B[39mPipeline(options\u001B[38;5;241m=\u001B[39moptions) \u001B[38;5;28;01mas\u001B[39;00m p:\n\u001B[1;32m      2\u001B[0m        elements \u001B[38;5;241m=\u001B[39m (p\n\u001B[1;32m      3\u001B[0m         \u001B[38;5;241m|\u001B[39m \u001B[38;5;124m\"\u001B[39m\u001B[38;5;124mread data into dataframe\u001B[39m\u001B[38;5;124m\"\u001B[39m \u001B[38;5;241m>>\u001B[39m ReadFromText(input_path, skip_header_lines\u001B[38;5;241m=\u001B[39m\u001B[38;5;241m1\u001B[39m)\n\u001B[1;32m      4\u001B[0m         \u001B[38;5;241m|\u001B[39m \u001B[38;5;124m\"\u001B[39m\u001B[38;5;124mkeyPairDo\u001B[39m\u001B[38;5;124m\"\u001B[39m \u001B[38;5;241m>>\u001B[39m beam\u001B[38;5;241m.\u001B[39mParDo(KeyValuePair())\n\u001B[1;32m      5\u001B[0m         \u001B[38;5;241m|\u001B[39m \u001B[38;5;124m'\u001B[39m\u001B[38;5;124mConvertIntoUserEvents\u001B[39m\u001B[38;5;124m'\u001B[39m \u001B[38;5;241m>>\u001B[39m beam\u001B[38;5;241m.\u001B[39mMap(\u001B[38;5;28;01mlambda\u001B[39;00m e: beam\u001B[38;5;241m.\u001B[39mwindow\u001B[38;5;241m.\u001B[39mTimestampedValue(e, e[\u001B[38;5;241m1\u001B[39m][\u001B[38;5;124m'\u001B[39m\u001B[38;5;124mtimestamp\u001B[39m\u001B[38;5;124m'\u001B[39m]))\n\u001B[1;32m      6\u001B[0m         \u001B[38;5;241m|\u001B[39m beam\u001B[38;5;241m.\u001B[39mMap(\u001B[38;5;28;01mlambda\u001B[39;00m e: (e[\u001B[38;5;241m0\u001B[39m], e[\u001B[38;5;241m1\u001B[39m][\u001B[38;5;124m'\u001B[39m\u001B[38;5;124mbytes\u001B[39m\u001B[38;5;124m'\u001B[39m]))\n\u001B[1;32m      7\u001B[0m        )\n\u001B[0;32m----> 9\u001B[0m        results \u001B[38;5;241m=\u001B[39m (\n\u001B[1;32m     10\u001B[0m            elements\n\u001B[1;32m     11\u001B[0m            \u001B[38;5;241m|\u001B[39m \u001B[38;5;124m\"\u001B[39m\u001B[38;5;124mwindowing\u001B[39m\u001B[38;5;124m\"\u001B[39m \u001B[38;5;241m>>\u001B[39m beam\u001B[38;5;241m.\u001B[39mWindowInto(\n\u001B[1;32m     12\u001B[0m                beam\u001B[38;5;241m.\u001B[39mwindow\u001B[38;5;241m.\u001B[39mSlidingWindows(\u001B[38;5;241m5\u001B[39m\u001B[38;5;241m*\u001B[39m\u001B[38;5;241m60\u001B[39m,\u001B[38;5;241m3\u001B[39m\u001B[38;5;241m*\u001B[39m\u001B[38;5;241m60\u001B[39m),\n\u001B[1;32m     13\u001B[0m                trigger\u001B[38;5;241m=\u001B[39mbeam\u001B[38;5;241m.\u001B[39mtrigger\u001B[38;5;241m.\u001B[39mRepeatedly(beam\u001B[38;5;241m.\u001B[39mtrigger\u001B[38;5;241m.\u001B[39mAfterAny(beam\u001B[38;5;241m.\u001B[39mtrigger\u001B[38;5;241m.\u001B[39mAfterProcessingTime(\u001B[38;5;241m1\u001B[39m\u001B[38;5;241m*\u001B[39m\u001B[38;5;241m60\u001B[39m),\n\u001B[1;32m     14\u001B[0m                                                                      beam\u001B[38;5;241m.\u001B[39mtrigger\u001B[38;5;241m.\u001B[39mAfterCount(\u001B[38;5;241m2\u001B[39m))),\n\u001B[1;32m     15\u001B[0m                accumulation_mode\u001B[38;5;241m=\u001B[39mbeam\u001B[38;5;241m.\u001B[39mtransforms\u001B[38;5;241m.\u001B[39mtrigger\u001B[38;5;241m.\u001B[39mAccumulationMode\u001B[38;5;241m.\u001B[39mDISCARDING)\n\u001B[1;32m     16\u001B[0m            \u001B[38;5;241m|\u001B[39m \u001B[38;5;124m\"\u001B[39m\u001B[38;5;124mcombine by key\u001B[39m\u001B[38;5;124m\"\u001B[39m \u001B[38;5;241m>>\u001B[39m beam\u001B[38;5;241m.\u001B[39mCombinePerKey(beam\u001B[38;5;241m.\u001B[39mcombiners\u001B[38;5;241m.\u001B[39mToListCombineFn())\n\u001B[1;32m     17\u001B[0m            \u001B[38;5;241m|\u001B[39m  beam\u001B[38;5;241m.\u001B[39mParDo(time_windowed_data())\n\u001B[1;32m     18\u001B[0m            \u001B[38;5;241m|\u001B[39m \u001B[38;5;124m\"\u001B[39m\u001B[38;5;124mget bytes\u001B[39m\u001B[38;5;124m\"\u001B[39m \u001B[38;5;241m>>\u001B[39m beam\u001B[38;5;241m.\u001B[39mParDo(MeanBytes())\n\u001B[1;32m     19\u001B[0m            \u001B[38;5;241m|\u001B[39m \u001B[38;5;124m\"\u001B[39m\u001B[38;5;124mAlert if user experienc outage\u001B[39m\u001B[38;5;124m\"\u001B[39m \u001B[38;5;241m>>\u001B[39m beam\u001B[38;5;241m.\u001B[39mParDo(OutageAlert()))\n",
      "File \u001B[0;32m~/anaconda3/envs/stellenbosch/lib/python3.9/site-packages/apache_beam/pipeline.py:600\u001B[0m, in \u001B[0;36mPipeline.__exit__\u001B[0;34m(self, exc_type, exc_val, exc_tb)\u001B[0m\n\u001B[1;32m    598\u001B[0m \u001B[38;5;28;01mtry\u001B[39;00m:\n\u001B[1;32m    599\u001B[0m   \u001B[38;5;28;01mif\u001B[39;00m \u001B[38;5;129;01mnot\u001B[39;00m exc_type:\n\u001B[0;32m--> 600\u001B[0m     \u001B[38;5;28mself\u001B[39m\u001B[38;5;241m.\u001B[39mresult \u001B[38;5;241m=\u001B[39m \u001B[38;5;28;43mself\u001B[39;49m\u001B[38;5;241;43m.\u001B[39;49m\u001B[43mrun\u001B[49m\u001B[43m(\u001B[49m\u001B[43m)\u001B[49m\n\u001B[1;32m    601\u001B[0m     \u001B[38;5;28mself\u001B[39m\u001B[38;5;241m.\u001B[39mresult\u001B[38;5;241m.\u001B[39mwait_until_finish()\n\u001B[1;32m    602\u001B[0m \u001B[38;5;28;01mfinally\u001B[39;00m:\n",
      "File \u001B[0;32m~/anaconda3/envs/stellenbosch/lib/python3.9/site-packages/apache_beam/pipeline.py:577\u001B[0m, in \u001B[0;36mPipeline.run\u001B[0;34m(self, test_runner_api)\u001B[0m\n\u001B[1;32m    575\u001B[0m     \u001B[38;5;28;01mfinally\u001B[39;00m:\n\u001B[1;32m    576\u001B[0m       shutil\u001B[38;5;241m.\u001B[39mrmtree(tmpdir)\n\u001B[0;32m--> 577\u001B[0m   \u001B[38;5;28;01mreturn\u001B[39;00m \u001B[38;5;28;43mself\u001B[39;49m\u001B[38;5;241;43m.\u001B[39;49m\u001B[43mrunner\u001B[49m\u001B[38;5;241;43m.\u001B[39;49m\u001B[43mrun_pipeline\u001B[49m\u001B[43m(\u001B[49m\u001B[38;5;28;43mself\u001B[39;49m\u001B[43m,\u001B[49m\u001B[43m \u001B[49m\u001B[38;5;28;43mself\u001B[39;49m\u001B[38;5;241;43m.\u001B[39;49m\u001B[43m_options\u001B[49m\u001B[43m)\u001B[49m\n\u001B[1;32m    578\u001B[0m \u001B[38;5;28;01mfinally\u001B[39;00m:\n\u001B[1;32m    579\u001B[0m   \u001B[38;5;28;01mif\u001B[39;00m \u001B[38;5;129;01mnot\u001B[39;00m is_in_ipython():\n",
      "File \u001B[0;32m~/anaconda3/envs/stellenbosch/lib/python3.9/site-packages/apache_beam/runners/direct/direct_runner.py:131\u001B[0m, in \u001B[0;36mSwitchingDirectRunner.run_pipeline\u001B[0;34m(self, pipeline, options)\u001B[0m\n\u001B[1;32m    128\u001B[0m \u001B[38;5;28;01melse\u001B[39;00m:\n\u001B[1;32m    129\u001B[0m   runner \u001B[38;5;241m=\u001B[39m BundleBasedDirectRunner()\n\u001B[0;32m--> 131\u001B[0m \u001B[38;5;28;01mreturn\u001B[39;00m \u001B[43mrunner\u001B[49m\u001B[38;5;241;43m.\u001B[39;49m\u001B[43mrun_pipeline\u001B[49m\u001B[43m(\u001B[49m\u001B[43mpipeline\u001B[49m\u001B[43m,\u001B[49m\u001B[43m \u001B[49m\u001B[43moptions\u001B[49m\u001B[43m)\u001B[49m\n",
      "File \u001B[0;32m~/anaconda3/envs/stellenbosch/lib/python3.9/site-packages/apache_beam/runners/portability/fn_api_runner/fn_runner.py:202\u001B[0m, in \u001B[0;36mFnApiRunner.run_pipeline\u001B[0;34m(self, pipeline, options)\u001B[0m\n\u001B[1;32m    191\u001B[0m   _LOGGER\u001B[38;5;241m.\u001B[39mwarning(\n\u001B[1;32m    192\u001B[0m       \u001B[38;5;124m'\u001B[39m\u001B[38;5;124mIf direct_num_workers is not equal to 1, direct_running_mode \u001B[39m\u001B[38;5;124m'\u001B[39m\n\u001B[1;32m    193\u001B[0m       \u001B[38;5;124m'\u001B[39m\u001B[38;5;124mshould be `multi_processing` or `multi_threading` instead of \u001B[39m\u001B[38;5;124m'\u001B[39m\n\u001B[0;32m   (...)\u001B[0m\n\u001B[1;32m    196\u001B[0m       \u001B[38;5;28mself\u001B[39m\u001B[38;5;241m.\u001B[39m_num_workers,\n\u001B[1;32m    197\u001B[0m       running_mode)\n\u001B[1;32m    199\u001B[0m \u001B[38;5;28mself\u001B[39m\u001B[38;5;241m.\u001B[39m_profiler_factory \u001B[38;5;241m=\u001B[39m Profile\u001B[38;5;241m.\u001B[39mfactory_from_options(\n\u001B[1;32m    200\u001B[0m     options\u001B[38;5;241m.\u001B[39mview_as(pipeline_options\u001B[38;5;241m.\u001B[39mProfilingOptions))\n\u001B[0;32m--> 202\u001B[0m \u001B[38;5;28mself\u001B[39m\u001B[38;5;241m.\u001B[39m_latest_run_result \u001B[38;5;241m=\u001B[39m \u001B[38;5;28;43mself\u001B[39;49m\u001B[38;5;241;43m.\u001B[39;49m\u001B[43mrun_via_runner_api\u001B[49m\u001B[43m(\u001B[49m\n\u001B[1;32m    203\u001B[0m \u001B[43m    \u001B[49m\u001B[43mpipeline\u001B[49m\u001B[38;5;241;43m.\u001B[39;49m\u001B[43mto_runner_api\u001B[49m\u001B[43m(\u001B[49m\u001B[43mdefault_environment\u001B[49m\u001B[38;5;241;43m=\u001B[39;49m\u001B[38;5;28;43mself\u001B[39;49m\u001B[38;5;241;43m.\u001B[39;49m\u001B[43m_default_environment\u001B[49m\u001B[43m)\u001B[49m\u001B[43m,\u001B[49m\n\u001B[1;32m    204\u001B[0m \u001B[43m    \u001B[49m\u001B[43moptions\u001B[49m\u001B[43m)\u001B[49m\n\u001B[1;32m    205\u001B[0m \u001B[38;5;28;01mreturn\u001B[39;00m \u001B[38;5;28mself\u001B[39m\u001B[38;5;241m.\u001B[39m_latest_run_result\n",
      "File \u001B[0;32m~/anaconda3/envs/stellenbosch/lib/python3.9/site-packages/apache_beam/runners/portability/fn_api_runner/fn_runner.py:224\u001B[0m, in \u001B[0;36mFnApiRunner.run_via_runner_api\u001B[0;34m(self, pipeline_proto, options)\u001B[0m\n\u001B[1;32m    222\u001B[0m   pipeline_proto \u001B[38;5;241m=\u001B[39m \u001B[38;5;28mself\u001B[39m\u001B[38;5;241m.\u001B[39membed_default_docker_image(pipeline_proto)\n\u001B[1;32m    223\u001B[0m stage_context, stages \u001B[38;5;241m=\u001B[39m \u001B[38;5;28mself\u001B[39m\u001B[38;5;241m.\u001B[39mcreate_stages(pipeline_proto)\n\u001B[0;32m--> 224\u001B[0m \u001B[38;5;28;01mreturn\u001B[39;00m \u001B[38;5;28;43mself\u001B[39;49m\u001B[38;5;241;43m.\u001B[39;49m\u001B[43mrun_stages\u001B[49m\u001B[43m(\u001B[49m\u001B[43mstage_context\u001B[49m\u001B[43m,\u001B[49m\u001B[43m \u001B[49m\u001B[43mstages\u001B[49m\u001B[43m)\u001B[49m\n",
      "File \u001B[0;32m~/anaconda3/envs/stellenbosch/lib/python3.9/site-packages/apache_beam/runners/portability/fn_api_runner/fn_runner.py:455\u001B[0m, in \u001B[0;36mFnApiRunner.run_stages\u001B[0;34m(self, stage_context, stages)\u001B[0m\n\u001B[1;32m    452\u001B[0m \u001B[38;5;28;01massert\u001B[39;00m consuming_stage_name \u001B[38;5;241m==\u001B[39m bundle_context_manager\u001B[38;5;241m.\u001B[39mstage\u001B[38;5;241m.\u001B[39mname\n\u001B[1;32m    454\u001B[0m bundle_counter \u001B[38;5;241m+\u001B[39m\u001B[38;5;241m=\u001B[39m \u001B[38;5;241m1\u001B[39m\n\u001B[0;32m--> 455\u001B[0m bundle_results \u001B[38;5;241m=\u001B[39m \u001B[38;5;28;43mself\u001B[39;49m\u001B[38;5;241;43m.\u001B[39;49m\u001B[43m_execute_bundle\u001B[49m\u001B[43m(\u001B[49m\n\u001B[1;32m    456\u001B[0m \u001B[43m    \u001B[49m\u001B[43mrunner_execution_context\u001B[49m\u001B[43m,\u001B[49m\u001B[43m \u001B[49m\u001B[43mbundle_context_manager\u001B[49m\u001B[43m,\u001B[49m\u001B[43m \u001B[49m\u001B[43mbundle_input\u001B[49m\u001B[43m)\u001B[49m\n\u001B[1;32m    458\u001B[0m \u001B[38;5;28;01mif\u001B[39;00m consuming_stage_name \u001B[38;5;129;01min\u001B[39;00m monitoring_infos_by_stage:\n\u001B[1;32m    459\u001B[0m   monitoring_infos_by_stage[\n\u001B[1;32m    460\u001B[0m       consuming_stage_name] \u001B[38;5;241m=\u001B[39m consolidate_monitoring_infos(\n\u001B[1;32m    461\u001B[0m           itertools\u001B[38;5;241m.\u001B[39mchain(\n\u001B[1;32m    462\u001B[0m               bundle_results\u001B[38;5;241m.\u001B[39mprocess_bundle\u001B[38;5;241m.\u001B[39mmonitoring_infos,\n\u001B[1;32m    463\u001B[0m               monitoring_infos_by_stage[consuming_stage_name]))\n",
      "File \u001B[0;32m~/anaconda3/envs/stellenbosch/lib/python3.9/site-packages/apache_beam/runners/portability/fn_api_runner/fn_runner.py:783\u001B[0m, in \u001B[0;36mFnApiRunner._execute_bundle\u001B[0;34m(self, runner_execution_context, bundle_context_manager, bundle_input)\u001B[0m\n\u001B[1;32m    778\u001B[0m \u001B[38;5;66;03m# We create the bundle manager here, as it can be reused for bundles of\u001B[39;00m\n\u001B[1;32m    779\u001B[0m \u001B[38;5;66;03m# the same stage, but it may have to be created by-bundle later on.\u001B[39;00m\n\u001B[1;32m    780\u001B[0m bundle_manager \u001B[38;5;241m=\u001B[39m \u001B[38;5;28mself\u001B[39m\u001B[38;5;241m.\u001B[39m_get_bundle_manager(bundle_context_manager)\n\u001B[1;32m    782\u001B[0m last_result, deferred_inputs, newly_set_timers, watermark_updates \u001B[38;5;241m=\u001B[39m (\n\u001B[0;32m--> 783\u001B[0m     \u001B[38;5;28;43mself\u001B[39;49m\u001B[38;5;241;43m.\u001B[39;49m\u001B[43m_run_bundle\u001B[49m\u001B[43m(\u001B[49m\n\u001B[1;32m    784\u001B[0m \u001B[43m        \u001B[49m\u001B[43mrunner_execution_context\u001B[49m\u001B[43m,\u001B[49m\n\u001B[1;32m    785\u001B[0m \u001B[43m        \u001B[49m\u001B[43mbundle_context_manager\u001B[49m\u001B[43m,\u001B[49m\n\u001B[1;32m    786\u001B[0m \u001B[43m        \u001B[49m\u001B[43mbundle_input\u001B[49m\u001B[43m,\u001B[49m\n\u001B[1;32m    787\u001B[0m \u001B[43m        \u001B[49m\u001B[43mbundle_context_manager\u001B[49m\u001B[38;5;241;43m.\u001B[39;49m\u001B[43mstage_data_outputs\u001B[49m\u001B[43m,\u001B[49m\n\u001B[1;32m    788\u001B[0m \u001B[43m        \u001B[49m\u001B[43mbundle_context_manager\u001B[49m\u001B[38;5;241;43m.\u001B[39;49m\u001B[43mstage_timer_outputs\u001B[49m\u001B[43m,\u001B[49m\n\u001B[1;32m    789\u001B[0m \u001B[43m        \u001B[49m\u001B[43mbundle_manager\u001B[49m\u001B[43m)\u001B[49m)\n\u001B[1;32m    791\u001B[0m \u001B[38;5;28;01mfor\u001B[39;00m pc_name, watermark \u001B[38;5;129;01min\u001B[39;00m watermark_updates\u001B[38;5;241m.\u001B[39mitems():\n\u001B[1;32m    792\u001B[0m   _BUNDLE_LOGGER\u001B[38;5;241m.\u001B[39mdebug(\u001B[38;5;124m'\u001B[39m\u001B[38;5;124mUpdate: \u001B[39m\u001B[38;5;132;01m%s\u001B[39;00m\u001B[38;5;124m \u001B[39m\u001B[38;5;132;01m%s\u001B[39;00m\u001B[38;5;124m'\u001B[39m, pc_name, watermark)\n",
      "File \u001B[0;32m~/anaconda3/envs/stellenbosch/lib/python3.9/site-packages/apache_beam/runners/portability/fn_api_runner/fn_runner.py:1012\u001B[0m, in \u001B[0;36mFnApiRunner._run_bundle\u001B[0;34m(self, runner_execution_context, bundle_context_manager, bundle_input, data_output, expected_timer_output, bundle_manager)\u001B[0m\n\u001B[1;32m   1003\u001B[0m input_timers \u001B[38;5;241m=\u001B[39m bundle_input\u001B[38;5;241m.\u001B[39mtimers\n\u001B[1;32m   1004\u001B[0m \u001B[38;5;28mself\u001B[39m\u001B[38;5;241m.\u001B[39m_run_bundle_multiple_times_for_testing(\n\u001B[1;32m   1005\u001B[0m     runner_execution_context,\n\u001B[1;32m   1006\u001B[0m     bundle_manager,\n\u001B[0;32m   (...)\u001B[0m\n\u001B[1;32m   1009\u001B[0m     input_timers,\n\u001B[1;32m   1010\u001B[0m     expected_timer_output)\n\u001B[0;32m-> 1012\u001B[0m result, splits \u001B[38;5;241m=\u001B[39m \u001B[43mbundle_manager\u001B[49m\u001B[38;5;241;43m.\u001B[39;49m\u001B[43mprocess_bundle\u001B[49m\u001B[43m(\u001B[49m\n\u001B[1;32m   1013\u001B[0m \u001B[43m    \u001B[49m\u001B[43mdata_input\u001B[49m\u001B[43m,\u001B[49m\u001B[43m \u001B[49m\u001B[43mdata_output\u001B[49m\u001B[43m,\u001B[49m\u001B[43m \u001B[49m\u001B[43minput_timers\u001B[49m\u001B[43m,\u001B[49m\u001B[43m \u001B[49m\u001B[43mexpected_timer_output\u001B[49m\u001B[43m)\u001B[49m\n\u001B[1;32m   1014\u001B[0m \u001B[38;5;66;03m# Now we collect all the deferred inputs remaining from bundle execution.\u001B[39;00m\n\u001B[1;32m   1015\u001B[0m \u001B[38;5;66;03m# Deferred inputs can be:\u001B[39;00m\n\u001B[1;32m   1016\u001B[0m \u001B[38;5;66;03m# - timers\u001B[39;00m\n\u001B[1;32m   1017\u001B[0m \u001B[38;5;66;03m# - SDK-initiated deferred applications of root elements\u001B[39;00m\n\u001B[1;32m   1018\u001B[0m \u001B[38;5;66;03m# - Runner-initiated deferred applications of root elements\u001B[39;00m\n\u001B[1;32m   1019\u001B[0m deferred_inputs \u001B[38;5;241m=\u001B[39m {}  \u001B[38;5;66;03m# type: Dict[str, execution.PartitionableBuffer]\u001B[39;00m\n",
      "File \u001B[0;32m~/anaconda3/envs/stellenbosch/lib/python3.9/site-packages/apache_beam/runners/portability/fn_api_runner/fn_runner.py:1432\u001B[0m, in \u001B[0;36mParallelBundleManager.process_bundle\u001B[0;34m(self, inputs, expected_outputs, fired_timers, expected_output_timers, dry_run)\u001B[0m\n\u001B[1;32m   1428\u001B[0m timer_inputs \u001B[38;5;241m=\u001B[39m [\n\u001B[1;32m   1429\u001B[0m     fired_timers \u001B[38;5;28;01mif\u001B[39;00m i \u001B[38;5;241m==\u001B[39m \u001B[38;5;241m0\u001B[39m \u001B[38;5;28;01melse\u001B[39;00m {} \u001B[38;5;28;01mfor\u001B[39;00m i \u001B[38;5;129;01min\u001B[39;00m \u001B[38;5;28mrange\u001B[39m(\u001B[38;5;28mself\u001B[39m\u001B[38;5;241m.\u001B[39m_num_workers)\n\u001B[1;32m   1430\u001B[0m ]\n\u001B[1;32m   1431\u001B[0m \u001B[38;5;28;01mfor\u001B[39;00m name, \u001B[38;5;28minput\u001B[39m \u001B[38;5;129;01min\u001B[39;00m inputs\u001B[38;5;241m.\u001B[39mitems():\n\u001B[0;32m-> 1432\u001B[0m   \u001B[38;5;28;01mfor\u001B[39;00m ix, part \u001B[38;5;129;01min\u001B[39;00m \u001B[38;5;28menumerate\u001B[39m(\u001B[38;5;28;43minput\u001B[39;49m\u001B[38;5;241;43m.\u001B[39;49m\u001B[43mpartition\u001B[49m\u001B[43m(\u001B[49m\u001B[38;5;28;43mself\u001B[39;49m\u001B[38;5;241;43m.\u001B[39;49m\u001B[43m_num_workers\u001B[49m\u001B[43m)\u001B[49m):\n\u001B[1;32m   1433\u001B[0m     part_inputs[ix][name] \u001B[38;5;241m=\u001B[39m part\n\u001B[1;32m   1435\u001B[0m merged_result \u001B[38;5;241m=\u001B[39m \u001B[38;5;28;01mNone\u001B[39;00m  \u001B[38;5;66;03m# type: Optional[beam_fn_api_pb2.InstructionResponse]\u001B[39;00m\n",
      "File \u001B[0;32m~/anaconda3/envs/stellenbosch/lib/python3.9/site-packages/apache_beam/runners/portability/fn_api_runner/execution.py:294\u001B[0m, in \u001B[0;36mGroupingBuffer.partition\u001B[0;34m(self, n)\u001B[0m\n\u001B[1;32m    292\u001B[0m \u001B[38;5;28;01mfor\u001B[39;00m idx, (encoded_key, windowed_values) \u001B[38;5;129;01min\u001B[39;00m \u001B[38;5;28menumerate\u001B[39m(\u001B[38;5;28mself\u001B[39m\u001B[38;5;241m.\u001B[39m_table\u001B[38;5;241m.\u001B[39mitems()):\n\u001B[1;32m    293\u001B[0m   key \u001B[38;5;241m=\u001B[39m key_coder_impl\u001B[38;5;241m.\u001B[39mdecode(encoded_key)\n\u001B[0;32m--> 294\u001B[0m   \u001B[38;5;28;01mfor\u001B[39;00m wkvs \u001B[38;5;129;01min\u001B[39;00m windowed_key_values(key, windowed_values):\n\u001B[1;32m    295\u001B[0m     coder_impl\u001B[38;5;241m.\u001B[39mencode_to_stream(wkvs, output_stream_list[idx \u001B[38;5;241m%\u001B[39m n], \u001B[38;5;28;01mTrue\u001B[39;00m)\n\u001B[1;32m    296\u001B[0m \u001B[38;5;28;01mfor\u001B[39;00m ix, output_stream \u001B[38;5;129;01min\u001B[39;00m \u001B[38;5;28menumerate\u001B[39m(output_stream_list):\n",
      "File \u001B[0;32m~/anaconda3/envs/stellenbosch/lib/python3.9/site-packages/apache_beam/transforms/trigger.py:1232\u001B[0m, in \u001B[0;36mTriggerDriver.process_entire_key\u001B[0;34m(self, key, windowed_values)\u001B[0m\n\u001B[1;32m   1229\u001B[0m \u001B[38;5;28;01mdef\u001B[39;00m \u001B[38;5;21mprocess_entire_key\u001B[39m(\u001B[38;5;28mself\u001B[39m, key, windowed_values):\n\u001B[1;32m   1230\u001B[0m   \u001B[38;5;66;03m# This state holds per-key, multi-window state.\u001B[39;00m\n\u001B[1;32m   1231\u001B[0m   state \u001B[38;5;241m=\u001B[39m InMemoryUnmergedState()\n\u001B[0;32m-> 1232\u001B[0m   \u001B[38;5;28;01mfor\u001B[39;00m wvalue \u001B[38;5;129;01min\u001B[39;00m \u001B[38;5;28mself\u001B[39m\u001B[38;5;241m.\u001B[39mprocess_elements(state,\n\u001B[1;32m   1233\u001B[0m                                       windowed_values,\n\u001B[1;32m   1234\u001B[0m                                       MIN_TIMESTAMP,\n\u001B[1;32m   1235\u001B[0m                                       MIN_TIMESTAMP):\n\u001B[1;32m   1236\u001B[0m     \u001B[38;5;28;01myield\u001B[39;00m wvalue\u001B[38;5;241m.\u001B[39mwith_value((key, wvalue\u001B[38;5;241m.\u001B[39mvalue))\n\u001B[1;32m   1237\u001B[0m   \u001B[38;5;28;01mwhile\u001B[39;00m state\u001B[38;5;241m.\u001B[39mtimers:\n",
      "File \u001B[0;32m~/anaconda3/envs/stellenbosch/lib/python3.9/site-packages/apache_beam/transforms/trigger.py:1442\u001B[0m, in \u001B[0;36mGeneralTriggerDriver.process_elements\u001B[0;34m(self, state, windowed_values, output_watermark, input_watermark)\u001B[0m\n\u001B[1;32m   1440\u001B[0m \u001B[38;5;28;01mfor\u001B[39;00m value, unused_timestamp \u001B[38;5;129;01min\u001B[39;00m elements:\n\u001B[1;32m   1441\u001B[0m   state\u001B[38;5;241m.\u001B[39madd_state(window, \u001B[38;5;28mself\u001B[39m\u001B[38;5;241m.\u001B[39mELEMENTS, value)\n\u001B[0;32m-> 1442\u001B[0m   \u001B[38;5;28;43mself\u001B[39;49m\u001B[38;5;241;43m.\u001B[39;49m\u001B[43mtrigger_fn\u001B[49m\u001B[38;5;241;43m.\u001B[39;49m\u001B[43mon_element\u001B[49m\u001B[43m(\u001B[49m\u001B[43mvalue\u001B[49m\u001B[43m,\u001B[49m\u001B[43m \u001B[49m\u001B[43mwindow\u001B[49m\u001B[43m,\u001B[49m\u001B[43m \u001B[49m\u001B[43mcontext\u001B[49m\u001B[43m)\u001B[49m\n\u001B[1;32m   1444\u001B[0m \u001B[38;5;66;03m# Maybe fire this window.\u001B[39;00m\n\u001B[1;32m   1445\u001B[0m \u001B[38;5;28;01mif\u001B[39;00m \u001B[38;5;28mself\u001B[39m\u001B[38;5;241m.\u001B[39mtrigger_fn\u001B[38;5;241m.\u001B[39mshould_fire(TimeDomain\u001B[38;5;241m.\u001B[39mWATERMARK,\n\u001B[1;32m   1446\u001B[0m                                input_watermark,\n\u001B[1;32m   1447\u001B[0m                                window,\n\u001B[1;32m   1448\u001B[0m                                context):\n",
      "File \u001B[0;32m~/anaconda3/envs/stellenbosch/lib/python3.9/site-packages/apache_beam/transforms/trigger.py:722\u001B[0m, in \u001B[0;36mRepeatedly.on_element\u001B[0;34m(self, element, window, context)\u001B[0m\n\u001B[1;32m    721\u001B[0m \u001B[38;5;28;01mdef\u001B[39;00m \u001B[38;5;21mon_element\u001B[39m(\u001B[38;5;28mself\u001B[39m, element, window, context):\n\u001B[0;32m--> 722\u001B[0m   \u001B[38;5;28;43mself\u001B[39;49m\u001B[38;5;241;43m.\u001B[39;49m\u001B[43munderlying\u001B[49m\u001B[38;5;241;43m.\u001B[39;49m\u001B[43mon_element\u001B[49m\u001B[43m(\u001B[49m\u001B[43melement\u001B[49m\u001B[43m,\u001B[49m\u001B[43m \u001B[49m\u001B[43mwindow\u001B[49m\u001B[43m,\u001B[49m\u001B[43m \u001B[49m\u001B[43mcontext\u001B[49m\u001B[43m)\u001B[49m\n",
      "File \u001B[0;32m~/anaconda3/envs/stellenbosch/lib/python3.9/site-packages/apache_beam/transforms/trigger.py:776\u001B[0m, in \u001B[0;36m_ParallelTriggerFn.on_element\u001B[0;34m(self, element, window, context)\u001B[0m\n\u001B[1;32m    774\u001B[0m \u001B[38;5;28;01mdef\u001B[39;00m \u001B[38;5;21mon_element\u001B[39m(\u001B[38;5;28mself\u001B[39m, element, window, context):\n\u001B[1;32m    775\u001B[0m   \u001B[38;5;28;01mfor\u001B[39;00m ix, trigger \u001B[38;5;129;01min\u001B[39;00m \u001B[38;5;28menumerate\u001B[39m(\u001B[38;5;28mself\u001B[39m\u001B[38;5;241m.\u001B[39mtriggers):\n\u001B[0;32m--> 776\u001B[0m     \u001B[43mtrigger\u001B[49m\u001B[38;5;241;43m.\u001B[39;49m\u001B[43mon_element\u001B[49m\u001B[43m(\u001B[49m\u001B[43melement\u001B[49m\u001B[43m,\u001B[49m\u001B[43m \u001B[49m\u001B[43mwindow\u001B[49m\u001B[43m,\u001B[49m\u001B[43m \u001B[49m\u001B[38;5;28;43mself\u001B[39;49m\u001B[38;5;241;43m.\u001B[39;49m\u001B[43m_sub_context\u001B[49m\u001B[43m(\u001B[49m\u001B[43mcontext\u001B[49m\u001B[43m,\u001B[49m\u001B[43m \u001B[49m\u001B[43mix\u001B[49m\u001B[43m)\u001B[49m\u001B[43m)\u001B[49m\n",
      "File \u001B[0;32m~/anaconda3/envs/stellenbosch/lib/python3.9/site-packages/apache_beam/transforms/trigger.py:393\u001B[0m, in \u001B[0;36mAfterProcessingTime.on_element\u001B[0;34m(self, element, window, context)\u001B[0m\n\u001B[1;32m    390\u001B[0m \u001B[38;5;28;01mdef\u001B[39;00m \u001B[38;5;21mon_element\u001B[39m(\u001B[38;5;28mself\u001B[39m, element, window, context):\n\u001B[1;32m    391\u001B[0m   \u001B[38;5;28;01mif\u001B[39;00m \u001B[38;5;129;01mnot\u001B[39;00m context\u001B[38;5;241m.\u001B[39mget_state(\u001B[38;5;28mself\u001B[39m\u001B[38;5;241m.\u001B[39mSTATE_TAG):\n\u001B[1;32m    392\u001B[0m     context\u001B[38;5;241m.\u001B[39mset_timer(\n\u001B[0;32m--> 393\u001B[0m         \u001B[38;5;124m'\u001B[39m\u001B[38;5;124m'\u001B[39m, TimeDomain\u001B[38;5;241m.\u001B[39mREAL_TIME, \u001B[43mcontext\u001B[49m\u001B[38;5;241;43m.\u001B[39;49m\u001B[43mget_current_time\u001B[49m\u001B[43m(\u001B[49m\u001B[43m)\u001B[49m \u001B[38;5;241m+\u001B[39m \u001B[38;5;28mself\u001B[39m\u001B[38;5;241m.\u001B[39mdelay)\n\u001B[1;32m    394\u001B[0m   context\u001B[38;5;241m.\u001B[39madd_state(\u001B[38;5;28mself\u001B[39m\u001B[38;5;241m.\u001B[39mSTATE_TAG, \u001B[38;5;28;01mTrue\u001B[39;00m)\n",
      "File \u001B[0;32m~/anaconda3/envs/stellenbosch/lib/python3.9/site-packages/apache_beam/transforms/trigger.py:998\u001B[0m, in \u001B[0;36mNestedContext.get_current_time\u001B[0;34m(self)\u001B[0m\n\u001B[1;32m    997\u001B[0m \u001B[38;5;28;01mdef\u001B[39;00m \u001B[38;5;21mget_current_time\u001B[39m(\u001B[38;5;28mself\u001B[39m):\n\u001B[0;32m--> 998\u001B[0m   \u001B[38;5;28;01mreturn\u001B[39;00m \u001B[38;5;28;43mself\u001B[39;49m\u001B[38;5;241;43m.\u001B[39;49m\u001B[43m_outer\u001B[49m\u001B[38;5;241;43m.\u001B[39;49m\u001B[43mget_current_time\u001B[49m\u001B[43m(\u001B[49m\u001B[43m)\u001B[49m\n",
      "File \u001B[0;32m~/anaconda3/envs/stellenbosch/lib/python3.9/site-packages/apache_beam/transforms/trigger.py:998\u001B[0m, in \u001B[0;36mNestedContext.get_current_time\u001B[0;34m(self)\u001B[0m\n\u001B[1;32m    997\u001B[0m \u001B[38;5;28;01mdef\u001B[39;00m \u001B[38;5;21mget_current_time\u001B[39m(\u001B[38;5;28mself\u001B[39m):\n\u001B[0;32m--> 998\u001B[0m   \u001B[38;5;28;01mreturn\u001B[39;00m \u001B[38;5;28;43mself\u001B[39;49m\u001B[38;5;241;43m.\u001B[39;49m\u001B[43m_outer\u001B[49m\u001B[38;5;241;43m.\u001B[39;49m\u001B[43mget_current_time\u001B[49m\u001B[43m(\u001B[49m\u001B[43m)\u001B[49m\n",
      "File \u001B[0;32m~/anaconda3/envs/stellenbosch/lib/python3.9/site-packages/apache_beam/transforms/trigger.py:973\u001B[0m, in \u001B[0;36mTriggerContext.get_current_time\u001B[0;34m(self)\u001B[0m\n\u001B[1;32m    972\u001B[0m \u001B[38;5;28;01mdef\u001B[39;00m \u001B[38;5;21mget_current_time\u001B[39m(\u001B[38;5;28mself\u001B[39m):\n\u001B[0;32m--> 973\u001B[0m   \u001B[38;5;28;01mreturn\u001B[39;00m \u001B[38;5;28;43mself\u001B[39;49m\u001B[38;5;241;43m.\u001B[39;49m\u001B[43m_clock\u001B[49m\u001B[38;5;241;43m.\u001B[39;49m\u001B[43mtime\u001B[49m()\n",
      "\u001B[0;31mAttributeError\u001B[0m: 'NoneType' object has no attribute 'time'"
     ]
    }
   ],
   "source": [
    "with beam.Pipeline(options=options) as p:\n",
    "       elements = (p\n",
    "        | \"read data into dataframe\" >> ReadFromText(input_path, skip_header_lines=1)\n",
    "        | \"keyPairDo\" >> beam.ParDo(KeyValuePair())\n",
    "        | 'ConvertIntoUserEvents' >> beam.Map(lambda e: beam.window.TimestampedValue(e, e[1]['timestamp']))\n",
    "        | beam.Map(lambda e: (e[0], e[1]['bytes']))\n",
    "       )\n",
    "       \n",
    "       results = (\n",
    "           elements\n",
    "           | \"windowing\" >> beam.WindowInto(\n",
    "               beam.window.SlidingWindows(5*60,3*60),\n",
    "               trigger=beam.trigger.Repeatedly(beam.trigger.AfterAny(beam.trigger.AfterProcessingTime(1*60),\n",
    "                                                                     beam.trigger.AfterCount(2))),\n",
    "               accumulation_mode=beam.transforms.trigger.AccumulationMode.DISCARDING)\n",
    "           | \"combine by key\" >> beam.CombinePerKey(beam.combiners.ToListCombineFn())\n",
    "           |  beam.ParDo(time_windowed_data())\n",
    "           | \"get bytes\" >> beam.ParDo(MeanBytes())\n",
    "           | \"Alert if user experienc outage\" >> beam.ParDo(OutageAlert()))\n",
    "       # results | beam.ParDo(print_windows)"
   ]
  },
  {
   "cell_type": "code",
   "execution_count": null,
   "metadata": {},
   "outputs": [],
   "source": [
    "with beam.Pipeline(options=options) as p:\n",
    "    elements = (\n",
    "           p\n",
    "           | \"Reading messages from Kafka\" >> kafkaio.KafkaConsume(consumer_config=consumer_config,value_decoder=bytes.decode)\n",
    "           | \"keyPairDo\" >> beam.ParDo(KeyValuePair_json())\n",
    "           | 'ConvertIntoUserEvents' >> beam.Map(lambda e: beam.window.TimestampedValue(e, e[1]['timestamp']))\n",
    "           | beam.Map(lambda e: (e[0], e[1]['bytes'])))\n",
    "    results = (\n",
    "        elements\n",
    "           | \"windowing\" >> beam.WindowInto(\n",
    "               beam.window.FixedWindows(5),\n",
    "               trigger=beam.trigger.Repeatedly(beam.trigger.AfterAny(beam.trigger.AfterProcessingTime(1),beam.trigger.AfterCount(2))),\n",
    "               accumulation_mode=beam.transforms.trigger.AccumulationMode.DISCARDING)\n",
    "           | \"combine by key\" >> beam.CombinePerKey(beam.combiners.ToListCombineFn())\n",
    "#            |  beam.ParDo(time_windowed_data())\n",
    "#            | \"get bytes\" >> beam.ParDo(MeanBytes())\n",
    "#            | \"Alert if user experienc outage\" >> beam.ParDo(OutageAlert())\n",
    "           | beam.ParDo(print_windows)\n",
    "    )"
   ]
  },
  {
   "cell_type": "code",
   "execution_count": null,
   "metadata": {},
   "outputs": [],
   "source": []
  },
  {
   "cell_type": "code",
   "execution_count": null,
   "metadata": {},
   "outputs": [],
   "source": []
  }
 ],
 "metadata": {
  "kernelspec": {
   "display_name": "Python 3",
   "language": "python",
   "name": "python3"
  },
  "language_info": {
   "codemirror_mode": {
    "name": "ipython",
    "version": 3
   },
   "file_extension": ".py",
   "mimetype": "text/x-python",
   "name": "python",
   "nbconvert_exporter": "python",
   "pygments_lexer": "ipython3",
   "version": "3.7.3"
  }
 },
 "nbformat": 4,
 "nbformat_minor": 4
}
