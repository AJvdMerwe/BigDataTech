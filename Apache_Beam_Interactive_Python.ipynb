{
 "cells": [
  {
   "cell_type": "markdown",
   "metadata": {
    "colab_type": "text",
    "id": "lNKIMlEDZ_Vw"
   },
   "source": [
    "# Interactive Beam\n",
    "\n",
    "In this notebook, we set up your development environment and work through a simple example using the [DirectRunner](https://beam.apache.org/documentation/runners/direct/). You can explore other runners with the [Beam Capatibility Matrix](https://beam.apache.org/documentation/runners/capability-matrix/).\n",
    "\n",
    "The expectation is that this notebook will help you explore the tutorial in a more interactive way.\n",
    "\n",
    "To learn more about Colab, see [Welcome to Colaboratory!](https://colab.sandbox.google.com/notebooks/welcome.ipynb)."
   ]
  },
  {
   "cell_type": "markdown",
   "metadata": {
    "colab_type": "text",
    "id": "Fz6KSQ13_3Rr"
   },
   "source": [
    "# Setup\n",
    "\n",
    "First, you need to set up your environment, which includes installing `apache-beam` and downloading a text file from Cloud Storage to your local file system. We are using this file to test your pipeline."
   ]
  },
  {
   "cell_type": "code",
   "execution_count": 1,
   "metadata": {
    "colab": {},
    "colab_type": "code",
    "id": "GOOk81Jj_yUy"
   },
   "outputs": [
    {
     "name": "stdout",
     "output_type": "stream",
     "text": [
      ">> pip install --upgrade pip\n",
      "Requirement already satisfied: pip in /home/arneau/anaconda3/envs/stellenbosch/lib/python3.9/site-packages (23.0.1)\r\n",
      "\n",
      ">> pip install --quiet apache-beam\n",
      "\n",
      ">> mkdir -p data\n",
      "\n",
      ">> gsutil cp gs://dataflow-samples/shakespeare/kinglear.txt data/\n",
      "/bin/bash: line 1: gsutil: command not found\r\n",
      "\n"
     ]
    }
   ],
   "source": [
    "# Run and print a shell command.\n",
    "def run(cmd):\n",
    "  print('>> {}'.format(cmd))\n",
    "  !{cmd}\n",
    "  print('')\n",
    "\n",
    "run('pip install --upgrade pip')\n",
    "\n",
    "# Install apache-beam.\n",
    "run('pip install --quiet apache-beam')\n",
    "\n",
    "# Copy the input file into the local file system.\n",
    "run('mkdir -p data')\n",
    "run('gsutil cp gs://dataflow-samples/shakespeare/kinglear.txt data/')"
   ]
  },
  {
   "cell_type": "code",
   "execution_count": 4,
   "metadata": {
    "colab": {},
    "colab_type": "code",
    "id": "c35B2XSSv0Rk"
   },
   "outputs": [
    {
     "name": "stdout",
     "output_type": "stream",
     "text": [
      "wc: kinglear.txt: No such file or directory\r\n"
     ]
    }
   ],
   "source": [
    "!wc -l kinglear.txt"
   ]
  },
  {
   "cell_type": "code",
   "execution_count": 5,
   "metadata": {
    "colab": {},
    "colab_type": "code",
    "id": "SnRHHTI6RDAk"
   },
   "outputs": [
    {
     "name": "stdout",
     "output_type": "stream",
     "text": [
      "head: cannot open 'kinglear.txt' for reading: No such file or directory\r\n"
     ]
    }
   ],
   "source": [
    "! head -3 kinglear.txt"
   ]
  },
  {
   "cell_type": "code",
   "execution_count": 6,
   "metadata": {
    "colab": {},
    "colab_type": "code",
    "id": "oUqfqWyMuIfR"
   },
   "outputs": [],
   "source": [
    "import apache_beam as beam\n",
    "import re\n",
    "\n",
    "inputs_pattern = 'data/*'\n",
    "outputs_prefix = 'outputs/part'"
   ]
  },
  {
   "cell_type": "code",
   "execution_count": null,
   "metadata": {
    "colab": {},
    "colab_type": "code",
    "id": "b4LZ-GwZ7yHO"
   },
   "outputs": [],
   "source": []
  },
  {
   "cell_type": "markdown",
   "metadata": {
    "colab_type": "text",
    "id": "0fntXsJh7y7b"
   },
   "source": [
    "## How to interactively work with Beam\n",
    "\n",
    "Here is an example of how to work iteratively with beam in order to understand what is happening in your pipeline.\n",
    "\n",
    "Firstly, reduce the size of the King Lear file to be manageable"
   ]
  },
  {
   "cell_type": "code",
   "execution_count": 7,
   "metadata": {
    "colab": {},
    "colab_type": "code",
    "id": "cA9P9WEe661s"
   },
   "outputs": [
    {
     "name": "stdout",
     "output_type": "stream",
     "text": [
      "head: cannot open 'kinglear.txt' for reading: No such file or directory\n",
      "wc: small.txt: No such file or directory\n"
     ]
    }
   ],
   "source": [
    "! head -10 kinglear.txt > data/small.txt\n",
    "! wc -l small.txt"
   ]
  },
  {
   "cell_type": "markdown",
   "metadata": {
    "colab_type": "text",
    "id": "VbQtmvTF8I2A"
   },
   "source": [
    "Create a custom print function (the python3 function `print` is supposed to work but we define our own here). Then it is possible to see what you are doing to the file.\n",
    "\n",
    "But something is wrong... why is it printing twice, see [SO](https://stackoverflow.com/a/52282001/1185293)"
   ]
  },
  {
   "cell_type": "code",
   "execution_count": 10,
   "metadata": {
    "colab": {},
    "colab_type": "code",
    "id": "HRncM_GJ6Jsk"
   },
   "outputs": [
    {
     "data": {
      "text/plain": [
       "'DONE'"
      ]
     },
     "execution_count": 10,
     "metadata": {},
     "output_type": "execute_result"
    }
   ],
   "source": [
    "def myprint(x):\n",
    "  print('{}'.format(x))\n",
    "\n",
    "with beam.Pipeline() as pipeline:\n",
    "  (pipeline \n",
    "      | 'Read lines' >> beam.io.ReadFromText('data/small.txt')\n",
    "      | \"print\" >> beam.Map(myprint)\n",
    "  )\n",
    "\n",
    "result = pipeline.run()\n",
    "result.wait_until_finish()"
   ]
  },
  {
   "cell_type": "markdown",
   "metadata": {
    "colab_type": "text",
    "id": "qecOY9oy-t_I"
   },
   "source": [
    "Now, let's break split each line on spaces and get the words out."
   ]
  },
  {
   "cell_type": "code",
   "execution_count": 11,
   "metadata": {
    "colab": {},
    "colab_type": "code",
    "id": "cSTmuelL-p7-"
   },
   "outputs": [],
   "source": [
    "\n",
    "with beam.Pipeline() as pipeline:\n",
    "  (pipeline \n",
    "      | 'Read lines' >> beam.io.ReadFromText('data/small.txt')\n",
    "      | 'get words' >> beam.FlatMap(lambda line: re.findall(r\"[a-zA-Z']+\", line))\n",
    "      | \"print\" >> beam.Map(myprint)\n",
    "  )"
   ]
  },
  {
   "cell_type": "markdown",
   "metadata": {
    "colab_type": "text",
    "id": "m1b1x1qT_x0y"
   },
   "source": [
    "Recall that `flatMap`s typically act on something (a function, iterable or variable) and apply a function to that something to produce a list of elements. See [this](https://beam.apache.org/documentation/transforms/python/elementwise/flatmap/) great example of how FlatMap works in Beam, and this answer on [SO](https://stackoverflow.com/a/45682977/1185293) for a simple explanation.\n",
    "\n",
    "In the case above, we applied an anonymous function (lambda function) to a line. We can define it explicitly if you prefer a more conventional syntax"
   ]
  },
  {
   "cell_type": "code",
   "execution_count": 12,
   "metadata": {
    "colab": {},
    "colab_type": "code",
    "id": "Wp36rDbMASEq"
   },
   "outputs": [],
   "source": [
    "def my_line_split_func(line):\n",
    "  return re.findall(r\"[a-zA-Z']+\", line)\n",
    "\n",
    "with beam.Pipeline() as pipeline:\n",
    "  (pipeline \n",
    "      | 'Read lines' >> beam.io.ReadFromText('data/small.txt')\n",
    "      | 'get words' >> beam.FlatMap(my_line_split_func)\n",
    "      | \"print\" >> beam.Map(myprint)\n",
    "  )\n"
   ]
  },
  {
   "cell_type": "markdown",
   "metadata": {
    "colab_type": "text",
    "id": "XEcvVGs7A7Pn"
   },
   "source": [
    "### Tutorial\n",
    "\n"
   ]
  },
  {
   "cell_type": "code",
   "execution_count": 13,
   "metadata": {
    "colab": {},
    "colab_type": "code",
    "id": "Qv3p_48aA9jO"
   },
   "outputs": [],
   "source": [
    "! echo -e 'r1c1,r1c2,2020/03/05\\nr2c1,r2c2,2020/03/23' > data/play.csv\n"
   ]
  },
  {
   "cell_type": "code",
   "execution_count": 14,
   "metadata": {
    "colab": {},
    "colab_type": "code",
    "id": "C76uqodZBPUl"
   },
   "outputs": [
    {
     "name": "stdout",
     "output_type": "stream",
     "text": [
      "r1c1,r1c2,2020/03/05\n",
      "r2c1,r2c2,2020/03/23\n"
     ]
    },
    {
     "data": {
      "text/plain": [
       "'DONE'"
      ]
     },
     "execution_count": 14,
     "metadata": {},
     "output_type": "execute_result"
    }
   ],
   "source": [
    "\n",
    "class Transform(beam.DoFn):\n",
    "\n",
    "  # Use classes to perform transformations on your PCollections\n",
    "  # Yield or return the element(s) needed as input for the next transform\n",
    "  def process(self, element):\n",
    "    yield element\n",
    "\n",
    "\n",
    "with beam.Pipeline() as pipeline:\n",
    "  (pipeline \n",
    "      | 'Read lines' >> beam.io.ReadFromText('data/play.csv')\n",
    "      | 'format line' >> beam.ParDo(Transform())\n",
    "      | \"print\" >> beam.Map(myprint)\n",
    "  )\n",
    "\n",
    "\n",
    "result.wait_until_finish()"
   ]
  },
  {
   "cell_type": "code",
   "execution_count": null,
   "metadata": {
    "colab": {},
    "colab_type": "code",
    "id": "j7nyDcnuJp2G"
   },
   "outputs": [],
   "source": []
  }
 ],
 "metadata": {
  "colab": {
   "collapsed_sections": [],
   "name": "Apache Beam Interactive - Python",
   "provenance": [],
   "toc_visible": true
  },
  "kernelspec": {
   "display_name": "Python 3",
   "language": "python",
   "name": "python3"
  },
  "language_info": {
   "codemirror_mode": {
    "name": "ipython",
    "version": 3
   },
   "file_extension": ".py",
   "mimetype": "text/x-python",
   "name": "python",
   "nbconvert_exporter": "python",
   "pygments_lexer": "ipython3",
   "version": "3.7.3"
  }
 },
 "nbformat": 4,
 "nbformat_minor": 1
}
