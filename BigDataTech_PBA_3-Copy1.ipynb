{
 "cells": [
  {
   "cell_type": "code",
   "execution_count": 3,
   "metadata": {},
   "outputs": [],
   "source": [
    "import pyspark\n",
    "from pyspark.ml import Pipeline\n",
    "from pyspark.ml.classification import RandomForestClassifier\n",
    "from pyspark.ml.evaluation import BinaryClassificationEvaluator\n",
    "from pyspark.ml.feature import StringIndexer\n",
    "from pyspark.ml.feature import VectorAssembler, Imputer\n",
    "from pyspark.ml.tuning import ParamGridBuilder\n",
    "from pyspark.sql import functions as F\n",
    "from pyspark.sql import SparkSession\n",
    "from pyspark.conf import SparkConf"
   ]
  },
  {
   "cell_type": "code",
   "execution_count": 2,
   "metadata": {},
   "outputs": [
    {
     "name": "stdout",
     "output_type": "stream",
     "text": [
      "--2020-11-19 22:15:37--  https://storage.googleapis.com/bdt-spark-store/external_sources.csv\n",
      "Resolving storage.googleapis.com (storage.googleapis.com)... 172.217.170.16, 172.217.170.48, 172.217.170.80, ...\n",
      "Connecting to storage.googleapis.com (storage.googleapis.com)|172.217.170.16|:443... connected.\n",
      "HTTP request sent, awaiting response... 200 OK\n",
      "Length: 15503836 (15M) [text/csv]\n",
      "Saving to: ‘gcs_external_sources.csv’\n",
      "\n",
      "gcs_external_source 100%[===================>]  14.79M  9.83MB/s    in 1.5s    \n",
      "\n",
      "2020-11-19 22:15:39 (9.83 MB/s) - ‘gcs_external_sources.csv’ saved [15503836/15503836]\n",
      "\n"
     ]
    }
   ],
   "source": [
    "! wget https://storage.googleapis.com/bdt-spark-store/external_sources.csv -O gcs_external_sources.csv"
   ]
  },
  {
   "cell_type": "code",
   "execution_count": 3,
   "metadata": {},
   "outputs": [
    {
     "name": "stdout",
     "output_type": "stream",
     "text": [
      "--2020-11-19 20:54:14--  https://storage.googleapis.com/bdt-spark-store/internal_data.csv\n",
      "Resolving storage.googleapis.com (storage.googleapis.com)... 172.217.170.48, 172.217.170.16, 172.217.170.80, ...\n",
      "Connecting to storage.googleapis.com (storage.googleapis.com)|172.217.170.48|:443... connected.\n",
      "HTTP request sent, awaiting response... 200 OK\n",
      "Length: 152978396 (146M) [text/csv]\n",
      "Saving to: ‘gcs_internal_data.csv’\n",
      "\n",
      "gcs_internal_data.c 100%[===================>] 145.89M  10.2MB/s    in 14s     \n",
      "\n",
      "2020-11-19 20:54:29 (10.3 MB/s) - ‘gcs_internal_data.csv’ saved [152978396/152978396]\n",
      "\n"
     ]
    }
   ],
   "source": [
    "! wget https://storage.googleapis.com/bdt-spark-store/internal_data.csv -O gcs_internal_data.csv"
   ]
  },
  {
   "cell_type": "code",
   "execution_count": 2,
   "metadata": {},
   "outputs": [],
   "source": [
    "import os\n",
    "memory = '8g'\n",
    "pyspark_submit_args = ' --verbose \\\n",
    " --driver-cores 1 \\\n",
    " --driver-memory=16g \\\n",
    " --executor-memory 2g \\\n",
    " --num-executors 4 \\\n",
    " --executor-cores 1 \\\n",
    " --master local[4] \\\n",
    " --deploy-mode client \\\n",
    " pyspark-shell'\n",
    "os.environ[\"PYSPARK_SUBMIT_ARGS\"] = pyspark_submit_args\n",
    "\n",
    "sc = SparkSession.builder.appName('BDT_PBA3').getOrCreate()"
   ]
  },
  {
   "cell_type": "code",
   "execution_count": 4,
   "metadata": {},
   "outputs": [],
   "source": [
    "internal_df = sc.read.csv('data/gcs_internal_data.csv', inferSchema=True, header=True)"
   ]
  },
  {
   "cell_type": "code",
   "execution_count": 5,
   "metadata": {},
   "outputs": [],
   "source": [
    "external_df = sc.read.csv('data/gcs_external_sources.csv', inferSchema=True, header=True)"
   ]
  },
  {
   "cell_type": "code",
   "execution_count": 26,
   "metadata": {},
   "outputs": [],
   "source": [
    "sc.conf.set(\"spark.sql.crossJoin.enabled\", \"true\")\n",
    "full_df = internal_df.join(external_df, internal_df.SK_ID_CURR==external_df.SK_ID_CURR)"
   ]
  },
  {
   "cell_type": "code",
   "execution_count": 27,
   "metadata": {
    "scrolled": false
   },
   "outputs": [
    {
     "name": "stdout",
     "output_type": "stream",
     "text": [
      "root\n",
      " |-- SK_ID_CURR: integer (nullable = true)\n",
      " |-- TARGET: integer (nullable = true)\n",
      " |-- NAME_CONTRACT_TYPE: string (nullable = true)\n",
      " |-- CODE_GENDER: string (nullable = true)\n",
      " |-- FLAG_OWN_CAR: string (nullable = true)\n",
      " |-- FLAG_OWN_REALTY: string (nullable = true)\n",
      " |-- CNT_CHILDREN: integer (nullable = true)\n",
      " |-- AMT_INCOME_TOTAL: double (nullable = true)\n",
      " |-- AMT_CREDIT: double (nullable = true)\n",
      " |-- AMT_ANNUITY: double (nullable = true)\n",
      " |-- AMT_GOODS_PRICE: double (nullable = true)\n",
      " |-- NAME_TYPE_SUITE: string (nullable = true)\n",
      " |-- NAME_INCOME_TYPE: string (nullable = true)\n",
      " |-- NAME_EDUCATION_TYPE: string (nullable = true)\n",
      " |-- NAME_FAMILY_STATUS: string (nullable = true)\n",
      " |-- NAME_HOUSING_TYPE: string (nullable = true)\n",
      " |-- REGION_POPULATION_RELATIVE: double (nullable = true)\n",
      " |-- DAYS_BIRTH: integer (nullable = true)\n",
      " |-- DAYS_EMPLOYED: integer (nullable = true)\n",
      " |-- DAYS_REGISTRATION: double (nullable = true)\n",
      " |-- DAYS_ID_PUBLISH: integer (nullable = true)\n",
      " |-- OWN_CAR_AGE: double (nullable = true)\n",
      " |-- FLAG_MOBIL: integer (nullable = true)\n",
      " |-- FLAG_EMP_PHONE: integer (nullable = true)\n",
      " |-- FLAG_WORK_PHONE: integer (nullable = true)\n",
      " |-- FLAG_CONT_MOBILE: integer (nullable = true)\n",
      " |-- FLAG_PHONE: integer (nullable = true)\n",
      " |-- FLAG_EMAIL: integer (nullable = true)\n",
      " |-- OCCUPATION_TYPE: string (nullable = true)\n",
      " |-- CNT_FAM_MEMBERS: double (nullable = true)\n",
      " |-- REGION_RATING_CLIENT: integer (nullable = true)\n",
      " |-- REGION_RATING_CLIENT_W_CITY: integer (nullable = true)\n",
      " |-- WEEKDAY_APPR_PROCESS_START: string (nullable = true)\n",
      " |-- HOUR_APPR_PROCESS_START: integer (nullable = true)\n",
      " |-- REG_REGION_NOT_LIVE_REGION: integer (nullable = true)\n",
      " |-- REG_REGION_NOT_WORK_REGION: integer (nullable = true)\n",
      " |-- LIVE_REGION_NOT_WORK_REGION: integer (nullable = true)\n",
      " |-- REG_CITY_NOT_LIVE_CITY: integer (nullable = true)\n",
      " |-- REG_CITY_NOT_WORK_CITY: integer (nullable = true)\n",
      " |-- LIVE_CITY_NOT_WORK_CITY: integer (nullable = true)\n",
      " |-- ORGANIZATION_TYPE: string (nullable = true)\n",
      " |-- APARTMENTS_AVG: double (nullable = true)\n",
      " |-- BASEMENTAREA_AVG: double (nullable = true)\n",
      " |-- YEARS_BEGINEXPLUATATION_AVG: double (nullable = true)\n",
      " |-- YEARS_BUILD_AVG: double (nullable = true)\n",
      " |-- COMMONAREA_AVG: double (nullable = true)\n",
      " |-- ELEVATORS_AVG: double (nullable = true)\n",
      " |-- ENTRANCES_AVG: double (nullable = true)\n",
      " |-- FLOORSMAX_AVG: double (nullable = true)\n",
      " |-- FLOORSMIN_AVG: double (nullable = true)\n",
      " |-- LANDAREA_AVG: double (nullable = true)\n",
      " |-- LIVINGAPARTMENTS_AVG: double (nullable = true)\n",
      " |-- LIVINGAREA_AVG: double (nullable = true)\n",
      " |-- NONLIVINGAPARTMENTS_AVG: double (nullable = true)\n",
      " |-- NONLIVINGAREA_AVG: double (nullable = true)\n",
      " |-- APARTMENTS_MODE: double (nullable = true)\n",
      " |-- BASEMENTAREA_MODE: double (nullable = true)\n",
      " |-- YEARS_BEGINEXPLUATATION_MODE: double (nullable = true)\n",
      " |-- YEARS_BUILD_MODE: double (nullable = true)\n",
      " |-- COMMONAREA_MODE: double (nullable = true)\n",
      " |-- ELEVATORS_MODE: double (nullable = true)\n",
      " |-- ENTRANCES_MODE: double (nullable = true)\n",
      " |-- FLOORSMAX_MODE: double (nullable = true)\n",
      " |-- FLOORSMIN_MODE: double (nullable = true)\n",
      " |-- LANDAREA_MODE: double (nullable = true)\n",
      " |-- LIVINGAPARTMENTS_MODE: double (nullable = true)\n",
      " |-- LIVINGAREA_MODE: double (nullable = true)\n",
      " |-- NONLIVINGAPARTMENTS_MODE: double (nullable = true)\n",
      " |-- NONLIVINGAREA_MODE: double (nullable = true)\n",
      " |-- APARTMENTS_MEDI: double (nullable = true)\n",
      " |-- BASEMENTAREA_MEDI: double (nullable = true)\n",
      " |-- YEARS_BEGINEXPLUATATION_MEDI: double (nullable = true)\n",
      " |-- YEARS_BUILD_MEDI: double (nullable = true)\n",
      " |-- COMMONAREA_MEDI: double (nullable = true)\n",
      " |-- ELEVATORS_MEDI: double (nullable = true)\n",
      " |-- ENTRANCES_MEDI: double (nullable = true)\n",
      " |-- FLOORSMAX_MEDI: double (nullable = true)\n",
      " |-- FLOORSMIN_MEDI: double (nullable = true)\n",
      " |-- LANDAREA_MEDI: double (nullable = true)\n",
      " |-- LIVINGAPARTMENTS_MEDI: double (nullable = true)\n",
      " |-- LIVINGAREA_MEDI: double (nullable = true)\n",
      " |-- NONLIVINGAPARTMENTS_MEDI: double (nullable = true)\n",
      " |-- NONLIVINGAREA_MEDI: double (nullable = true)\n",
      " |-- FONDKAPREMONT_MODE: string (nullable = true)\n",
      " |-- HOUSETYPE_MODE: string (nullable = true)\n",
      " |-- TOTALAREA_MODE: double (nullable = true)\n",
      " |-- WALLSMATERIAL_MODE: string (nullable = true)\n",
      " |-- EMERGENCYSTATE_MODE: string (nullable = true)\n",
      " |-- OBS_30_CNT_SOCIAL_CIRCLE: double (nullable = true)\n",
      " |-- DEF_30_CNT_SOCIAL_CIRCLE: double (nullable = true)\n",
      " |-- OBS_60_CNT_SOCIAL_CIRCLE: double (nullable = true)\n",
      " |-- DEF_60_CNT_SOCIAL_CIRCLE: double (nullable = true)\n",
      " |-- DAYS_LAST_PHONE_CHANGE: double (nullable = true)\n",
      " |-- FLAG_DOCUMENT_2: integer (nullable = true)\n",
      " |-- FLAG_DOCUMENT_3: integer (nullable = true)\n",
      " |-- FLAG_DOCUMENT_4: integer (nullable = true)\n",
      " |-- FLAG_DOCUMENT_5: integer (nullable = true)\n",
      " |-- FLAG_DOCUMENT_6: integer (nullable = true)\n",
      " |-- FLAG_DOCUMENT_7: integer (nullable = true)\n",
      " |-- FLAG_DOCUMENT_8: integer (nullable = true)\n",
      " |-- FLAG_DOCUMENT_9: integer (nullable = true)\n",
      " |-- FLAG_DOCUMENT_10: integer (nullable = true)\n",
      " |-- FLAG_DOCUMENT_11: integer (nullable = true)\n",
      " |-- FLAG_DOCUMENT_12: integer (nullable = true)\n",
      " |-- FLAG_DOCUMENT_13: integer (nullable = true)\n",
      " |-- FLAG_DOCUMENT_14: integer (nullable = true)\n",
      " |-- FLAG_DOCUMENT_15: integer (nullable = true)\n",
      " |-- FLAG_DOCUMENT_16: integer (nullable = true)\n",
      " |-- FLAG_DOCUMENT_17: integer (nullable = true)\n",
      " |-- FLAG_DOCUMENT_18: integer (nullable = true)\n",
      " |-- FLAG_DOCUMENT_19: integer (nullable = true)\n",
      " |-- FLAG_DOCUMENT_20: integer (nullable = true)\n",
      " |-- FLAG_DOCUMENT_21: integer (nullable = true)\n",
      " |-- AMT_REQ_CREDIT_BUREAU_HOUR: double (nullable = true)\n",
      " |-- AMT_REQ_CREDIT_BUREAU_DAY: double (nullable = true)\n",
      " |-- AMT_REQ_CREDIT_BUREAU_WEEK: double (nullable = true)\n",
      " |-- AMT_REQ_CREDIT_BUREAU_MON: double (nullable = true)\n",
      " |-- AMT_REQ_CREDIT_BUREAU_QRT: double (nullable = true)\n",
      " |-- AMT_REQ_CREDIT_BUREAU_YEAR: double (nullable = true)\n",
      " |-- SK_ID_CURR: integer (nullable = true)\n",
      " |-- EXT_SOURCE_1: double (nullable = true)\n",
      " |-- EXT_SOURCE_2: double (nullable = true)\n",
      " |-- EXT_SOURCE_3: double (nullable = true)\n",
      "\n"
     ]
    }
   ],
   "source": [
    "full_df.printSchema()"
   ]
  },
  {
   "cell_type": "code",
   "execution_count": 85,
   "metadata": {},
   "outputs": [
    {
     "name": "stdout",
     "output_type": "stream",
     "text": [
      "+------+\n",
      "|TARGET|\n",
      "+------+\n",
      "|     1|\n",
      "|     0|\n",
      "+------+\n",
      "\n"
     ]
    }
   ],
   "source": [
    "full_df.select('TARGET').distinct().show()"
   ]
  },
  {
   "cell_type": "code",
   "execution_count": 29,
   "metadata": {},
   "outputs": [],
   "source": [
    "columns_extract = ['EXT_SOURCE_1', 'EXT_SOURCE_2', 'EXT_SOURCE_3',\n",
    "                  'DAYS_BIRTH', 'DAYS_EMPLOYED', 'NAME_EDUCATION_TYPE',\n",
    "                  'DAYS_ID_PUBLISH', 'CODE_GENDER', 'AMT_ANNUITY',\n",
    "                  'DAYS_REGISTRATION', 'AMT_GOODS_PRICE', 'AMT_CREDIT',\n",
    "                  'ORGANIZATION_TYPE', 'DAYS_LAST_PHONE_CHANGE',\n",
    "                  'NAME_INCOME_TYPE', 'AMT_INCOME_TOTAL', 'OWN_CAR_AGE', 'TARGET']\n",
    "df = full_df.select(columns_extract)"
   ]
  },
  {
   "cell_type": "code",
   "execution_count": 30,
   "metadata": {},
   "outputs": [
    {
     "name": "stdout",
     "output_type": "stream",
     "text": [
      "+------------------+------------------+-------------------+----------+-------------+--------------------+---------------+-----------+-----------+-----------------+---------------+----------+-----------------+----------------------+----------------+----------------+-----------+------+\n",
      "|      EXT_SOURCE_1|      EXT_SOURCE_2|       EXT_SOURCE_3|DAYS_BIRTH|DAYS_EMPLOYED| NAME_EDUCATION_TYPE|DAYS_ID_PUBLISH|CODE_GENDER|AMT_ANNUITY|DAYS_REGISTRATION|AMT_GOODS_PRICE|AMT_CREDIT|ORGANIZATION_TYPE|DAYS_LAST_PHONE_CHANGE|NAME_INCOME_TYPE|AMT_INCOME_TOTAL|OWN_CAR_AGE|TARGET|\n",
      "+------------------+------------------+-------------------+----------+-------------+--------------------+---------------+-----------+-----------+-----------------+---------------+----------+-----------------+----------------------+----------------+----------------+-----------+------+\n",
      "|0.6529430442014209|0.6984528683753916| 0.8004513396487078|    -15612|        -1106|Secondary / secon...|          -4018|          M|    38281.5|          -8060.0|      1305000.0| 1305000.0|    Self-employed|               -2263.0|         Working|        308250.0|        6.0|     0|\n",
      "|              null|0.2997892593212273| 0.6894791426446275|    -21314|       365243|     Lower secondary|          -4613|          F|    23215.5|          -2486.0|       603000.0|  698517.0|              XNA|                -807.0|       Pensioner|        126000.0|       null|     0|\n",
      "|0.1147882274758708|0.5763092744000353|0.16146308000577247|    -10960|        -1091|Secondary / secon...|          -1049|          F|    21420.0|          -5206.0|       270000.0|  327024.0|         Medicine|                -387.0|         Working|        157500.0|       null|     0|\n",
      "+------------------+------------------+-------------------+----------+-------------+--------------------+---------------+-----------+-----------+-----------------+---------------+----------+-----------------+----------------------+----------------+----------------+-----------+------+\n",
      "only showing top 3 rows\n",
      "\n"
     ]
    }
   ],
   "source": [
    "df.show(n=3)"
   ]
  },
  {
   "cell_type": "code",
   "execution_count": 42,
   "metadata": {},
   "outputs": [],
   "source": [
    "numbers = [\"EXT_SOURCE_1\", 'EXT_SOURCE_2', 'EXT_SOURCE_3', 'DAYS_BIRTH', 'DAYS_EMPLOYED', 'DAYS_ID_PUBLISH', 'AMT_ANNUITY', 'DAYS_REGISTRATION', 'AMT_GOODS_PRICE', 'AMT_CREDIT', 'DAYS_LAST_PHONE_CHANGE', 'AMT_INCOME_TOTAL', 'OWN_CAR_AGE']\n",
    "\n",
    "for col in numbers:\n",
    "    df = df.withColumn(col, F.col(col).cast('double'))"
   ]
  },
  {
   "cell_type": "code",
   "execution_count": 43,
   "metadata": {},
   "outputs": [],
   "source": [
    "train, test = df.randomSplit([0.8, 0.2],101)"
   ]
  },
  {
   "cell_type": "code",
   "execution_count": 75,
   "metadata": {},
   "outputs": [
    {
     "name": "stdout",
     "output_type": "stream",
     "text": [
      "+------+------+-------------------+\n",
      "|TARGET| count|         Prevelence|\n",
      "+------+------+-------------------+\n",
      "|     1| 19890|0.08089640867124903|\n",
      "|     0|225980|  0.919103591328751|\n",
      "+------+------+-------------------+\n",
      "\n",
      "None\n",
      "+------+-----+-------------------+\n",
      "|TARGET|count|         Prevelence|\n",
      "+------+-----+-------------------+\n",
      "|     1| 4935|0.08006034944274103|\n",
      "|     0|56706|  0.919939650557259|\n",
      "+------+-----+-------------------+\n",
      "\n",
      "None\n"
     ]
    }
   ],
   "source": [
    "print(train.groupBy('TARGET').count().select(\"TARGET\",\"count\", (F.col(\"count\")/train.count()).alias(\"Prevelence\")).show())\n",
    "print(test.groupBy('TARGET').count().select(\"TARGET\",\"count\", (F.col(\"count\")/test.count()).alias(\"Prevelence\")).show())"
   ]
  },
  {
   "cell_type": "code",
   "execution_count": 68,
   "metadata": {},
   "outputs": [
    {
     "name": "stdout",
     "output_type": "stream",
     "text": [
      "Training data shape:  (245870, 18)\n",
      "Test data shape:  (61641, 18)\n"
     ]
    }
   ],
   "source": [
    "print('Training data shape: ', (train.count(), len(train.columns)))\n",
    "print('Test data shape: ',(test.count(), len(test.columns)))"
   ]
  },
  {
   "cell_type": "code",
   "execution_count": 47,
   "metadata": {},
   "outputs": [],
   "source": [
    "string_columns = [\"CODE_GENDER\", \"NAME_EDUCATION_TYPE\", \"ORGANIZATION_TYPE\", \"NAME_INCOME_TYPE\"]\n",
    "numbers = [\"EXT_SOURCE_1\", 'EXT_SOURCE_2', 'EXT_SOURCE_3', 'DAYS_BIRTH', 'DAYS_EMPLOYED', 'DAYS_ID_PUBLISH', 'AMT_ANNUITY', 'DAYS_REGISTRATION', 'AMT_GOODS_PRICE', 'AMT_CREDIT', 'DAYS_LAST_PHONE_CHANGE', 'AMT_INCOME_TOTAL', 'OWN_CAR_AGE']\n",
    "\n",
    "train = train.na.fill('missing', subset=string_columns)\n",
    "test = test.na.fill('missing', subset=string_columns)\n",
    "\n",
    "train = train.na.fill(999999999999999.99, subset=numbers)\n",
    "test = test.na.fill(999999999999999.99, subset=numbers)"
   ]
  },
  {
   "cell_type": "code",
   "execution_count": 76,
   "metadata": {},
   "outputs": [],
   "source": [
    "string_indexes = [StringIndexer(inputCol=c, outputCol='IDX_' + c, handleInvalid='keep',\n",
    "                                    stringOrderType='alphabetAsc') for c in string_columns]\n",
    "imputer = Imputer(strategy='median', missingValue=999999999999999.99,\n",
    "                      inputCols=numbers, outputCols=['imp_' + n for n in numbers])\n",
    "assembler = VectorAssembler(outputCol=\"features\",inputCols=['imp_' + n for n in numbers] + ['IDX_' + c for c in string_columns])\n",
    "rf = RandomForestClassifier(featuresCol=\"features\", cacheNodeIds=True, labelCol='TARGET', maxBins=100, numTrees=100, impurity='gini').setSeed(50)"
   ]
  },
  {
   "cell_type": "code",
   "execution_count": 109,
   "metadata": {},
   "outputs": [],
   "source": [
    "pipeline_stages = [string_indexes + [imputer, assembler, rf]]"
   ]
  },
  {
   "cell_type": "code",
   "execution_count": 125,
   "metadata": {},
   "outputs": [],
   "source": [
    "pipeline = Pipeline(stages=pipeline_stages[0]).fit(train)"
   ]
  },
  {
   "cell_type": "code",
   "execution_count": 126,
   "metadata": {},
   "outputs": [],
   "source": [
    "test_scored = pipeline.transform(test)"
   ]
  },
  {
   "cell_type": "code",
   "execution_count": 127,
   "metadata": {},
   "outputs": [],
   "source": [
    "from pyspark.ml.evaluation import MulticlassClassificationEvaluator\n",
    "evaluator = MulticlassClassificationEvaluator(labelCol='TARGET', predictionCol='prediction', metricName='accuracy')\n",
    "accuracy = evaluator.evaluate(test_scored)"
   ]
  },
  {
   "cell_type": "code",
   "execution_count": 128,
   "metadata": {},
   "outputs": [
    {
     "name": "stdout",
     "output_type": "stream",
     "text": [
      "0.919939650557259\n"
     ]
    }
   ],
   "source": [
    "print(accuracy)"
   ]
  },
  {
   "cell_type": "code",
   "execution_count": 129,
   "metadata": {},
   "outputs": [
    {
     "data": {
      "text/html": [
       "<div>\n",
       "<style scoped>\n",
       "    .dataframe tbody tr th:only-of-type {\n",
       "        vertical-align: middle;\n",
       "    }\n",
       "\n",
       "    .dataframe tbody tr th {\n",
       "        vertical-align: top;\n",
       "    }\n",
       "\n",
       "    .dataframe thead th {\n",
       "        text-align: right;\n",
       "    }\n",
       "</style>\n",
       "<table border=\"1\" class=\"dataframe\">\n",
       "  <thead>\n",
       "    <tr style=\"text-align: right;\">\n",
       "      <th></th>\n",
       "      <th>idx</th>\n",
       "      <th>name</th>\n",
       "      <th>vals</th>\n",
       "      <th>score</th>\n",
       "    </tr>\n",
       "  </thead>\n",
       "  <tbody>\n",
       "    <tr>\n",
       "      <th>0</th>\n",
       "      <td>0</td>\n",
       "      <td>imp_EXT_SOURCE_1</td>\n",
       "      <td>NaN</td>\n",
       "      <td>0.093981</td>\n",
       "    </tr>\n",
       "    <tr>\n",
       "      <th>1</th>\n",
       "      <td>1</td>\n",
       "      <td>imp_EXT_SOURCE_2</td>\n",
       "      <td>NaN</td>\n",
       "      <td>0.363942</td>\n",
       "    </tr>\n",
       "    <tr>\n",
       "      <th>2</th>\n",
       "      <td>2</td>\n",
       "      <td>imp_EXT_SOURCE_3</td>\n",
       "      <td>NaN</td>\n",
       "      <td>0.366477</td>\n",
       "    </tr>\n",
       "    <tr>\n",
       "      <th>3</th>\n",
       "      <td>3</td>\n",
       "      <td>imp_DAYS_BIRTH</td>\n",
       "      <td>NaN</td>\n",
       "      <td>0.041220</td>\n",
       "    </tr>\n",
       "    <tr>\n",
       "      <th>4</th>\n",
       "      <td>4</td>\n",
       "      <td>imp_DAYS_EMPLOYED</td>\n",
       "      <td>NaN</td>\n",
       "      <td>0.015472</td>\n",
       "    </tr>\n",
       "    <tr>\n",
       "      <th>5</th>\n",
       "      <td>5</td>\n",
       "      <td>imp_DAYS_ID_PUBLISH</td>\n",
       "      <td>NaN</td>\n",
       "      <td>0.004982</td>\n",
       "    </tr>\n",
       "    <tr>\n",
       "      <th>6</th>\n",
       "      <td>6</td>\n",
       "      <td>imp_AMT_ANNUITY</td>\n",
       "      <td>NaN</td>\n",
       "      <td>0.004996</td>\n",
       "    </tr>\n",
       "    <tr>\n",
       "      <th>7</th>\n",
       "      <td>7</td>\n",
       "      <td>imp_DAYS_REGISTRATION</td>\n",
       "      <td>NaN</td>\n",
       "      <td>0.001401</td>\n",
       "    </tr>\n",
       "    <tr>\n",
       "      <th>8</th>\n",
       "      <td>8</td>\n",
       "      <td>imp_AMT_GOODS_PRICE</td>\n",
       "      <td>NaN</td>\n",
       "      <td>0.013472</td>\n",
       "    </tr>\n",
       "    <tr>\n",
       "      <th>9</th>\n",
       "      <td>9</td>\n",
       "      <td>imp_AMT_CREDIT</td>\n",
       "      <td>NaN</td>\n",
       "      <td>0.003996</td>\n",
       "    </tr>\n",
       "    <tr>\n",
       "      <th>10</th>\n",
       "      <td>10</td>\n",
       "      <td>imp_DAYS_LAST_PHONE_CHANGE</td>\n",
       "      <td>NaN</td>\n",
       "      <td>0.008095</td>\n",
       "    </tr>\n",
       "    <tr>\n",
       "      <th>11</th>\n",
       "      <td>11</td>\n",
       "      <td>imp_AMT_INCOME_TOTAL</td>\n",
       "      <td>NaN</td>\n",
       "      <td>0.001468</td>\n",
       "    </tr>\n",
       "    <tr>\n",
       "      <th>12</th>\n",
       "      <td>12</td>\n",
       "      <td>imp_OWN_CAR_AGE</td>\n",
       "      <td>NaN</td>\n",
       "      <td>0.004748</td>\n",
       "    </tr>\n",
       "    <tr>\n",
       "      <th>13</th>\n",
       "      <td>13</td>\n",
       "      <td>IDX_CODE_GENDER</td>\n",
       "      <td>[F, M, XNA, __unknown]</td>\n",
       "      <td>0.026549</td>\n",
       "    </tr>\n",
       "    <tr>\n",
       "      <th>14</th>\n",
       "      <td>14</td>\n",
       "      <td>IDX_NAME_EDUCATION_TYPE</td>\n",
       "      <td>[Academic degree, Higher education, Incomplete...</td>\n",
       "      <td>0.019314</td>\n",
       "    </tr>\n",
       "    <tr>\n",
       "      <th>15</th>\n",
       "      <td>15</td>\n",
       "      <td>IDX_ORGANIZATION_TYPE</td>\n",
       "      <td>[Advertising, Agriculture, Bank, Business Enti...</td>\n",
       "      <td>0.010282</td>\n",
       "    </tr>\n",
       "    <tr>\n",
       "      <th>16</th>\n",
       "      <td>16</td>\n",
       "      <td>IDX_NAME_INCOME_TYPE</td>\n",
       "      <td>[Businessman, Commercial associate, Maternity ...</td>\n",
       "      <td>0.019607</td>\n",
       "    </tr>\n",
       "  </tbody>\n",
       "</table>\n",
       "</div>"
      ],
      "text/plain": [
       "    idx                        name  \\\n",
       "0     0            imp_EXT_SOURCE_1   \n",
       "1     1            imp_EXT_SOURCE_2   \n",
       "2     2            imp_EXT_SOURCE_3   \n",
       "3     3              imp_DAYS_BIRTH   \n",
       "4     4           imp_DAYS_EMPLOYED   \n",
       "5     5         imp_DAYS_ID_PUBLISH   \n",
       "6     6             imp_AMT_ANNUITY   \n",
       "7     7       imp_DAYS_REGISTRATION   \n",
       "8     8         imp_AMT_GOODS_PRICE   \n",
       "9     9              imp_AMT_CREDIT   \n",
       "10   10  imp_DAYS_LAST_PHONE_CHANGE   \n",
       "11   11        imp_AMT_INCOME_TOTAL   \n",
       "12   12             imp_OWN_CAR_AGE   \n",
       "13   13             IDX_CODE_GENDER   \n",
       "14   14     IDX_NAME_EDUCATION_TYPE   \n",
       "15   15       IDX_ORGANIZATION_TYPE   \n",
       "16   16        IDX_NAME_INCOME_TYPE   \n",
       "\n",
       "                                                 vals     score  \n",
       "0                                                 NaN  0.093981  \n",
       "1                                                 NaN  0.363942  \n",
       "2                                                 NaN  0.366477  \n",
       "3                                                 NaN  0.041220  \n",
       "4                                                 NaN  0.015472  \n",
       "5                                                 NaN  0.004982  \n",
       "6                                                 NaN  0.004996  \n",
       "7                                                 NaN  0.001401  \n",
       "8                                                 NaN  0.013472  \n",
       "9                                                 NaN  0.003996  \n",
       "10                                                NaN  0.008095  \n",
       "11                                                NaN  0.001468  \n",
       "12                                                NaN  0.004748  \n",
       "13                             [F, M, XNA, __unknown]  0.026549  \n",
       "14  [Academic degree, Higher education, Incomplete...  0.019314  \n",
       "15  [Advertising, Agriculture, Bank, Business Enti...  0.010282  \n",
       "16  [Businessman, Commercial associate, Maternity ...  0.019607  "
      ]
     },
     "execution_count": 129,
     "metadata": {},
     "output_type": "execute_result"
    }
   ],
   "source": [
    "import pandas as pd\n",
    "featuresCol = \"features\"\n",
    "dataset = test_scored\n",
    "featureImp = pipeline.stages[-1].featureImportances\n",
    "\n",
    "list_extract = []\n",
    "for i in dataset.schema[featuresCol].metadata[\"ml_attr\"][\"attrs\"]:\n",
    "    list_extract = list_extract + dataset.schema[featuresCol].metadata[\"ml_attr\"][\"attrs\"][i]\n",
    "varlist = pd.DataFrame(list_extract)\n",
    "varlist['score'] = varlist['idx'].apply(lambda x: featureImp[x])\n",
    "varlist"
   ]
  },
  {
   "cell_type": "code",
   "execution_count": 130,
   "metadata": {},
   "outputs": [],
   "source": [
    "df = df.na.fill('missing', subset=string_columns)\n",
    "df = df.na.fill(999999999999999.99, subset=numbers)\n",
    "df = df.withColumn('TARGET', F.col('TARGET').cast('double'))\n",
    "pipeline_stages = pipeline.stages\n",
    "new_pipeline = Pipeline(stages=pipeline_stages)\n",
    "best_params_model = new_pipeline.fit(df)\n",
    "overfitted_ = best_params_model.transform(test)"
   ]
  },
  {
   "cell_type": "code",
   "execution_count": 131,
   "metadata": {},
   "outputs": [
    {
     "name": "stdout",
     "output_type": "stream",
     "text": [
      "0.919939650557259\n"
     ]
    }
   ],
   "source": [
    "from pyspark.ml.evaluation import MulticlassClassificationEvaluator\n",
    "evaluator = MulticlassClassificationEvaluator(labelCol='TARGET', predictionCol='prediction', metricName='accuracy')\n",
    "accuracy = evaluator.evaluate(overfitted_)\n",
    "print(accuracy)"
   ]
  },
  {
   "cell_type": "code",
   "execution_count": null,
   "metadata": {},
   "outputs": [],
   "source": []
  }
 ],
 "metadata": {
  "kernelspec": {
   "display_name": "Python 3",
   "language": "python",
   "name": "python3"
  },
  "language_info": {
   "codemirror_mode": {
    "name": "ipython",
    "version": 3
   },
   "file_extension": ".py",
   "mimetype": "text/x-python",
   "name": "python",
   "nbconvert_exporter": "python",
   "pygments_lexer": "ipython3",
   "version": "3.7.3"
  }
 },
 "nbformat": 4,
 "nbformat_minor": 4
}
