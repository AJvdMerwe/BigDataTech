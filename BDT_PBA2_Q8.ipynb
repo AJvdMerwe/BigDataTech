{
 "cells": [
  {
   "cell_type": "code",
   "execution_count": 1,
   "metadata": {},
   "outputs": [
    {
     "ename": "ModuleNotFoundError",
     "evalue": "No module named 'pymongo'",
     "output_type": "error",
     "traceback": [
      "\u001b[0;31m---------------------------------------------------------------------------\u001b[0m",
      "\u001b[0;31mModuleNotFoundError\u001b[0m                       Traceback (most recent call last)",
      "\u001b[0;32m<ipython-input-1-39b8c3ce1942>\u001b[0m in \u001b[0;36m<module>\u001b[0;34m\u001b[0m\n\u001b[0;32m----> 1\u001b[0;31m \u001b[0;32mimport\u001b[0m \u001b[0mpymongo\u001b[0m\u001b[0;34m\u001b[0m\u001b[0;34m\u001b[0m\u001b[0m\n\u001b[0m\u001b[1;32m      2\u001b[0m \u001b[0;32mimport\u001b[0m \u001b[0mdatetime\u001b[0m\u001b[0;34m\u001b[0m\u001b[0;34m\u001b[0m\u001b[0m\n",
      "\u001b[0;31mModuleNotFoundError\u001b[0m: No module named 'pymongo'"
     ]
    }
   ],
   "source": [
    "import pymongo\n",
    "import datetime"
   ]
  },
  {
   "cell_type": "code",
   "execution_count": 2,
   "metadata": {},
   "outputs": [],
   "source": [
    "# connect to localhost on default port 27017\n",
    "client = pymongo.MongoClient('127.0.0.1', 27017)"
   ]
  },
  {
   "cell_type": "code",
   "execution_count": 3,
   "metadata": {},
   "outputs": [],
   "source": [
    "# get/create a database with name `database_name`\n",
    "db = client['Punks']"
   ]
  },
  {
   "cell_type": "code",
   "execution_count": 4,
   "metadata": {},
   "outputs": [],
   "source": [
    "# get/create a collection in the database called `test_col`\n",
    "col = db.get_collection('punks')"
   ]
  },
  {
   "cell_type": "code",
   "execution_count": 5,
   "metadata": {},
   "outputs": [
    {
     "data": {
      "text/plain": [
       "Collection(Database(MongoClient(host=['127.0.0.1:27017'], document_class=dict, tz_aware=False, connect=True), 'Punks'), 'punks')"
      ]
     },
     "execution_count": 5,
     "metadata": {},
     "output_type": "execute_result"
    }
   ],
   "source": [
    "col"
   ]
  },
  {
   "cell_type": "code",
   "execution_count": 6,
   "metadata": {},
   "outputs": [],
   "source": [
    "# json sample for local testing\n",
    "\n",
    "import json \n",
    "with open('sample-assignment2.json') as f:\n",
    "    data = json.load(f)\n",
    "    \n",
    "# col.insert_many(data)"
   ]
  },
  {
   "cell_type": "code",
   "execution_count": 7,
   "metadata": {},
   "outputs": [
    {
     "data": {
      "text/plain": [
       "20"
      ]
     },
     "execution_count": 7,
     "metadata": {},
     "output_type": "execute_result"
    }
   ],
   "source": [
    "len(data[5]['total_price'])"
   ]
  },
  {
   "cell_type": "markdown",
   "metadata": {},
   "source": [
    "## Question 1"
   ]
  },
  {
   "cell_type": "code",
   "execution_count": 8,
   "metadata": {
    "scrolled": true
   },
   "outputs": [
    {
     "data": {
      "text/plain": [
       "<pymongo.results.InsertManyResult at 0x7f3ae631f288>"
      ]
     },
     "execution_count": 8,
     "metadata": {},
     "output_type": "execute_result"
    }
   ],
   "source": [
    "import requests\n",
    "\n",
    "# url = \"https://api.opensea.io/api/v1/events?only_opensea=false&offset=0&limit=20\"\n",
    "url = \"https://us-ie-big-data-technologies.ew.r.appspot.com/api/v1/events?offset=0&limit=10000&occurred_after=2021-09-01T00%3A00%3A00%2B02%3A00&occurred_before=2021-10-01T00%3A00%3A00%2B02%3A00&collection_slug=cryptopunks\"\n",
    "\n",
    "headers = {\"Accept\": \"application/json\"}\n",
    "\n",
    "response = requests.request(\"GET\", url, headers=headers)\n",
    "\n",
    "response_json_data = response.json()\n",
    "col.insert_many(response_json_data[\"asset_events\"])"
   ]
  },
  {
   "cell_type": "markdown",
   "metadata": {},
   "source": [
    "## Question 2"
   ]
  },
  {
   "cell_type": "code",
   "execution_count": 9,
   "metadata": {},
   "outputs": [
    {
     "name": "stderr",
     "output_type": "stream",
     "text": [
      "/home/f5047145/anaconda3/lib/python3.7/site-packages/ipykernel_launcher.py:1: DeprecationWarning: count is deprecated. Use estimated_document_count or count_documents instead. Please note that $where must be replaced by $expr, $near must be replaced by $geoWithin with $center, and $nearSphere must be replaced by $geoWithin with $centerSphere\n",
      "  \"\"\"Entry point for launching an IPython kernel.\n"
     ]
    },
    {
     "data": {
      "text/plain": [
       "534"
      ]
     },
     "execution_count": 9,
     "metadata": {},
     "output_type": "execute_result"
    }
   ],
   "source": [
    "db.punks.count()"
   ]
  },
  {
   "cell_type": "markdown",
   "metadata": {},
   "source": [
    "## Question 3"
   ]
  },
  {
   "cell_type": "code",
   "execution_count": 10,
   "metadata": {},
   "outputs": [
    {
     "name": "stdout",
     "output_type": "stream",
     "text": [
      "[{'_id': ObjectId('61b4c1020e646336f20012f8'), 'asset': {'token_id': '3634'}, 'total_price': 999.9}, {'_id': ObjectId('61b4c1020e646336f2001402'), 'asset': {'token_id': '8922'}, 'total_price': 999.9}, {'_id': ObjectId('61b4c1020e646336f20013db'), 'asset': {'token_id': '7633'}, 'total_price': 999.8}, {'_id': ObjectId('61b4c1020e646336f200141a'), 'asset': {'token_id': '9103'}, 'total_price': 999.0}, {'_id': ObjectId('61b4c1020e646336f2001299'), 'asset': {'token_id': '1672'}, 'total_price': 997.5}, {'_id': ObjectId('61b4c1020e646336f20012ca'), 'asset': {'token_id': '3239'}, 'total_price': 996.9}, {'_id': ObjectId('61b4c1020e646336f20012df'), 'asset': {'token_id': '3533'}, 'total_price': 995.0}, {'_id': ObjectId('61b4c1020e646336f20012d8'), 'asset': {'token_id': '3378'}, 'total_price': 995.0}, {'_id': ObjectId('61b4c1020e646336f20012c3'), 'asset': {'token_id': '3173'}, 'total_price': 990.0}, {'_id': ObjectId('61b4c1020e646336f2001303'), 'asset': {'token_id': '4610'}, 'total_price': 990.0}]\n"
     ]
    }
   ],
   "source": [
    "print(list(db.punks.aggregate( [\n",
    "    {\n",
    "       \"$project\":\n",
    "          {\n",
    "            \"asset.token_id\": 1,\n",
    "            \"total_price\": {\"$divide\": [{\"$convert\":{\n",
    "                \"input\":{\n",
    "                    \"$substr\": [ \"$total_price\", 0, 4]\n",
    "                }, \"to\":\"double\"}\n",
    "                                        },10]},\n",
    "          }\n",
    "      },\n",
    "    {\"$match\":{}},\n",
    "    {\"$sort\":{\"total_price\":-1}},\n",
    "    {\"$limit\":10}\n",
    "                ])\n",
    "          ))"
   ]
  },
  {
   "cell_type": "markdown",
   "metadata": {},
   "source": [
    "## Question 4"
   ]
  },
  {
   "cell_type": "code",
   "execution_count": 11,
   "metadata": {},
   "outputs": [
    {
     "data": {
      "text/plain": [
       "395"
      ]
     },
     "execution_count": 11,
     "metadata": {},
     "output_type": "execute_result"
    }
   ],
   "source": [
    "len(db.punks.find({\"event_type\":\"successful\",'asset.asset_contract.schema_name':'CRYPTOPUNKS'}).distinct(\"asset.name\"))"
   ]
  },
  {
   "cell_type": "markdown",
   "metadata": {},
   "source": [
    "## Question 5"
   ]
  },
  {
   "cell_type": "code",
   "execution_count": 12,
   "metadata": {},
   "outputs": [
    {
     "name": "stdout",
     "output_type": "stream",
     "text": [
      "[{'_id': {'day': 16, 'month': 9, 'year': 2021}, 'Total between time period': 90}]\n"
     ]
    }
   ],
   "source": [
    "results = db.punks.aggregate( [ {\n",
    "   \"$project\": { \n",
    "      \"event_type\":1,\n",
    "      \"total_price\":1,\n",
    "      \"transaction.timestamp\": {\n",
    "         \"$dateFromString\": {\n",
    "            \"dateString\": '$transaction.timestamp',\n",
    "            \"timezone\": 'GMT',\n",
    "            \"onError\": \"transaction.timestamp\"\n",
    "         }\n",
    "      }\n",
    "   }\n",
    "},\n",
    "{\"$match\" : { \"event_type\": \"successful\"}},\n",
    "{\"$group\": { \n",
    "        \"_id\": {\n",
    "               \"day\": {\"$dayOfMonth\": \"$transaction.timestamp\"},\n",
    "               \"month\": {\"$month\": \"$transaction.timestamp\"}, \n",
    "               \"year\": {\"$year\": \"$transaction.timestamp\"}\n",
    "             },\n",
    "        \"Total between time period\": {\n",
    "            \"$sum\" : 1\n",
    "        }}\n",
    "},\n",
    "{\"$sort\":{\"Total between time period\":-1}},\n",
    "{\"$limit\":1}])\n",
    "print(list(results))"
   ]
  },
  {
   "cell_type": "markdown",
   "metadata": {},
   "source": [
    "## Question 6"
   ]
  },
  {
   "cell_type": "code",
   "execution_count": 13,
   "metadata": {},
   "outputs": [
    {
     "name": "stdout",
     "output_type": "stream",
     "text": [
      "[{'_id': 'payment_token.symbol.ETH', 'Total sum in ETH': 38580.8}]\n"
     ]
    }
   ],
   "source": [
    "print(list(db.punks.aggregate( [\n",
    "    {\n",
    "       \"$project\":\n",
    "          {\n",
    "            \"event_type\": 1,\n",
    "            \"payment_token.symbol\": 1,\n",
    "            \"total_price\": {\"$divide\": [{\"$convert\":{\n",
    "                \"input\":{\n",
    "                    \"$substr\": [ \"$total_price\", 0,  4]\n",
    "                }, \"to\":\"double\"}\n",
    "                                        },10]},\n",
    "           \"transaction.timestamp\": {\n",
    "                     \"$dateFromString\": {\n",
    "                                        \"dateString\": '$transaction.timestamp',\n",
    "                                        \"timezone\": 'GMT',\n",
    "                                        \"onError\": \"transaction.timestamp\"\n",
    "                                         }\n",
    "                                      }\n",
    "          }\n",
    "      },\n",
    "   { \"$match\": { \"event_type\": \"successful\",\n",
    "                \n",
    "                \"transaction.timestamp\":{\"$gte\":datetime.datetime(2021, 9, 16), \n",
    "                                      \"$lt\": datetime.datetime(2021, 9, 17)}\n",
    "               } },\n",
    "    {\"$group\": { \n",
    "        \"_id\": \"payment_token.symbol.ETH\",\n",
    "        \"Total sum in ETH\": {\n",
    "            \"$sum\": \"$total_price\"\n",
    "        }\n",
    "}}])))"
   ]
  },
  {
   "cell_type": "code",
   "execution_count": null,
   "metadata": {},
   "outputs": [],
   "source": []
  }
 ],
 "metadata": {
  "kernelspec": {
   "display_name": "Python 3",
   "language": "python",
   "name": "python3"
  },
  "language_info": {
   "codemirror_mode": {
    "name": "ipython",
    "version": 3
   },
   "file_extension": ".py",
   "mimetype": "text/x-python",
   "name": "python",
   "nbconvert_exporter": "python",
   "pygments_lexer": "ipython3",
   "version": "3.7.3"
  }
 },
 "nbformat": 4,
 "nbformat_minor": 4
}
